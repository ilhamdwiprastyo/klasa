{
 "cells": [
  {
   "cell_type": "markdown",
   "metadata": {},
   "source": [
    "<center><h1>Module 2 Assignment</h1></center>"
   ]
  },
  {
   "cell_type": "markdown",
   "metadata": {},
   "source": [
    "# Choose a dataset\n",
    "\n",
    "Choose a dataset from [NYC Open Data](https://opendata.cityofnewyork.us/) that is available in CSV format (look at the format labels in the list of datasets). Choose one that has at least 2 numerical value columns and 1 string value column. \n",
    "\n",
    "If it's a CSV file you may be able to directly read it with pandas\n",
    "```\n",
    "pd.read_csv(url)\n",
    "```\n",
    "\n",
    "If it is a compressed file (.zip, .gz, etc.), download the zip and unpack it, then read it in with pandas\n",
    "```\n",
    "pd.read_csv(<filename>.csv)\n",
    "```"
   ]
  },
  {
   "cell_type": "code",
   "execution_count": 1,
   "metadata": {},
   "outputs": [
    {
     "data": {
      "text/html": [
       "<div>\n",
       "<style scoped>\n",
       "    .dataframe tbody tr th:only-of-type {\n",
       "        vertical-align: middle;\n",
       "    }\n",
       "\n",
       "    .dataframe tbody tr th {\n",
       "        vertical-align: top;\n",
       "    }\n",
       "\n",
       "    .dataframe thead th {\n",
       "        text-align: right;\n",
       "    }\n",
       "</style>\n",
       "<table border=\"1\" class=\"dataframe\">\n",
       "  <thead>\n",
       "    <tr style=\"text-align: right;\">\n",
       "      <th></th>\n",
       "      <th>Year</th>\n",
       "      <th>Leading Cause</th>\n",
       "      <th>Sex</th>\n",
       "      <th>Race Ethnicity</th>\n",
       "      <th>Deaths</th>\n",
       "      <th>Death Rate</th>\n",
       "      <th>Age Adjusted Death Rate</th>\n",
       "    </tr>\n",
       "  </thead>\n",
       "  <tbody>\n",
       "    <tr>\n",
       "      <th>0</th>\n",
       "      <td>2015</td>\n",
       "      <td>Malignant Neoplasms (Cancer: C00-C97)</td>\n",
       "      <td>Female</td>\n",
       "      <td>Asian and Pacific Islander</td>\n",
       "      <td>515</td>\n",
       "      <td>79.726669113</td>\n",
       "      <td>78.865386427</td>\n",
       "    </tr>\n",
       "    <tr>\n",
       "      <th>1</th>\n",
       "      <td>2015</td>\n",
       "      <td>Diseases of Heart (I00-I09, I11, I13, I20-I51)</td>\n",
       "      <td>Female</td>\n",
       "      <td>Asian and Pacific Islander</td>\n",
       "      <td>498</td>\n",
       "      <td>77.094914987</td>\n",
       "      <td>81.605131438</td>\n",
       "    </tr>\n",
       "    <tr>\n",
       "      <th>2</th>\n",
       "      <td>2015</td>\n",
       "      <td>Cerebrovascular Disease (Stroke: I60-I69)</td>\n",
       "      <td>Female</td>\n",
       "      <td>Asian and Pacific Islander</td>\n",
       "      <td>95</td>\n",
       "      <td>14.706861293</td>\n",
       "      <td>15.337930564</td>\n",
       "    </tr>\n",
       "    <tr>\n",
       "      <th>3</th>\n",
       "      <td>2015</td>\n",
       "      <td>Influenza (Flu) and Pneumonia (J09-J18)</td>\n",
       "      <td>Female</td>\n",
       "      <td>Asian and Pacific Islander</td>\n",
       "      <td>89</td>\n",
       "      <td>13.778006895</td>\n",
       "      <td>14.706362334</td>\n",
       "    </tr>\n",
       "    <tr>\n",
       "      <th>4</th>\n",
       "      <td>2015</td>\n",
       "      <td>Diabetes Mellitus (E10-E14)</td>\n",
       "      <td>Female</td>\n",
       "      <td>Asian and Pacific Islander</td>\n",
       "      <td>71</td>\n",
       "      <td>10.991443703</td>\n",
       "      <td>11.537396764</td>\n",
       "    </tr>\n",
       "    <tr>\n",
       "      <th>...</th>\n",
       "      <td>...</td>\n",
       "      <td>...</td>\n",
       "      <td>...</td>\n",
       "      <td>...</td>\n",
       "      <td>...</td>\n",
       "      <td>...</td>\n",
       "      <td>...</td>\n",
       "    </tr>\n",
       "    <tr>\n",
       "      <th>1511</th>\n",
       "      <td>2014</td>\n",
       "      <td>Accidents Except Drug Posioning (V01-X39, X43,...</td>\n",
       "      <td>F</td>\n",
       "      <td>Other Race/ Ethnicity</td>\n",
       "      <td>6</td>\n",
       "      <td>.</td>\n",
       "      <td>.</td>\n",
       "    </tr>\n",
       "    <tr>\n",
       "      <th>1512</th>\n",
       "      <td>2012</td>\n",
       "      <td>Diabetes Mellitus (E10-E14)</td>\n",
       "      <td>F</td>\n",
       "      <td>Black Non-Hispanic</td>\n",
       "      <td>409</td>\n",
       "      <td>39.1</td>\n",
       "      <td>33.8</td>\n",
       "    </tr>\n",
       "    <tr>\n",
       "      <th>1513</th>\n",
       "      <td>2012</td>\n",
       "      <td>Chronic Lower Respiratory Diseases (J40-J47)</td>\n",
       "      <td>F</td>\n",
       "      <td>Asian and Pacific Islander</td>\n",
       "      <td>39</td>\n",
       "      <td>6.7</td>\n",
       "      <td>8</td>\n",
       "    </tr>\n",
       "    <tr>\n",
       "      <th>1514</th>\n",
       "      <td>2012</td>\n",
       "      <td>Chronic Lower Respiratory Diseases (J40-J47)</td>\n",
       "      <td>F</td>\n",
       "      <td>Not Stated/Unknown</td>\n",
       "      <td>8</td>\n",
       "      <td>.</td>\n",
       "      <td>.</td>\n",
       "    </tr>\n",
       "    <tr>\n",
       "      <th>1515</th>\n",
       "      <td>2013</td>\n",
       "      <td>Accidents Except Drug Posioning (V01-X39, X43,...</td>\n",
       "      <td>M</td>\n",
       "      <td>Other Race/ Ethnicity</td>\n",
       "      <td>5</td>\n",
       "      <td>.</td>\n",
       "      <td>.</td>\n",
       "    </tr>\n",
       "  </tbody>\n",
       "</table>\n",
       "<p>1516 rows × 7 columns</p>\n",
       "</div>"
      ],
      "text/plain": [
       "      Year                                      Leading Cause     Sex  \\\n",
       "0     2015              Malignant Neoplasms (Cancer: C00-C97)  Female   \n",
       "1     2015     Diseases of Heart (I00-I09, I11, I13, I20-I51)  Female   \n",
       "2     2015          Cerebrovascular Disease (Stroke: I60-I69)  Female   \n",
       "3     2015            Influenza (Flu) and Pneumonia (J09-J18)  Female   \n",
       "4     2015                        Diabetes Mellitus (E10-E14)  Female   \n",
       "...    ...                                                ...     ...   \n",
       "1511  2014  Accidents Except Drug Posioning (V01-X39, X43,...       F   \n",
       "1512  2012                        Diabetes Mellitus (E10-E14)       F   \n",
       "1513  2012       Chronic Lower Respiratory Diseases (J40-J47)       F   \n",
       "1514  2012       Chronic Lower Respiratory Diseases (J40-J47)       F   \n",
       "1515  2013  Accidents Except Drug Posioning (V01-X39, X43,...       M   \n",
       "\n",
       "                  Race Ethnicity Deaths    Death Rate Age Adjusted Death Rate  \n",
       "0     Asian and Pacific Islander    515  79.726669113            78.865386427  \n",
       "1     Asian and Pacific Islander    498  77.094914987            81.605131438  \n",
       "2     Asian and Pacific Islander     95  14.706861293            15.337930564  \n",
       "3     Asian and Pacific Islander     89  13.778006895            14.706362334  \n",
       "4     Asian and Pacific Islander     71  10.991443703            11.537396764  \n",
       "...                          ...    ...           ...                     ...  \n",
       "1511       Other Race/ Ethnicity      6             .                       .  \n",
       "1512          Black Non-Hispanic    409          39.1                    33.8  \n",
       "1513  Asian and Pacific Islander     39           6.7                       8  \n",
       "1514          Not Stated/Unknown      8             .                       .  \n",
       "1515       Other Race/ Ethnicity      5             .                       .  \n",
       "\n",
       "[1516 rows x 7 columns]"
      ]
     },
     "execution_count": 1,
     "metadata": {},
     "output_type": "execute_result"
    }
   ],
   "source": [
    "import pandas as pd\n",
    "import numpy as np\n",
    "import matplotlib.pyplot as plt\n",
    "\n",
    "data = pd.read_csv('dataset/New_York_City_Leading_Causes_of_Death.csv')\n",
    "data"
   ]
  },
  {
   "cell_type": "markdown",
   "metadata": {},
   "source": [
    "## Display top 7 rows of the dataframe in your notebook"
   ]
  },
  {
   "cell_type": "code",
   "execution_count": 2,
   "metadata": {},
   "outputs": [
    {
     "data": {
      "text/html": [
       "<div>\n",
       "<style scoped>\n",
       "    .dataframe tbody tr th:only-of-type {\n",
       "        vertical-align: middle;\n",
       "    }\n",
       "\n",
       "    .dataframe tbody tr th {\n",
       "        vertical-align: top;\n",
       "    }\n",
       "\n",
       "    .dataframe thead th {\n",
       "        text-align: right;\n",
       "    }\n",
       "</style>\n",
       "<table border=\"1\" class=\"dataframe\">\n",
       "  <thead>\n",
       "    <tr style=\"text-align: right;\">\n",
       "      <th></th>\n",
       "      <th>Year</th>\n",
       "      <th>Leading Cause</th>\n",
       "      <th>Sex</th>\n",
       "      <th>Race Ethnicity</th>\n",
       "      <th>Deaths</th>\n",
       "      <th>Death Rate</th>\n",
       "      <th>Age Adjusted Death Rate</th>\n",
       "    </tr>\n",
       "  </thead>\n",
       "  <tbody>\n",
       "    <tr>\n",
       "      <th>0</th>\n",
       "      <td>2015</td>\n",
       "      <td>Malignant Neoplasms (Cancer: C00-C97)</td>\n",
       "      <td>Female</td>\n",
       "      <td>Asian and Pacific Islander</td>\n",
       "      <td>515</td>\n",
       "      <td>79.726669113</td>\n",
       "      <td>78.865386427</td>\n",
       "    </tr>\n",
       "    <tr>\n",
       "      <th>1</th>\n",
       "      <td>2015</td>\n",
       "      <td>Diseases of Heart (I00-I09, I11, I13, I20-I51)</td>\n",
       "      <td>Female</td>\n",
       "      <td>Asian and Pacific Islander</td>\n",
       "      <td>498</td>\n",
       "      <td>77.094914987</td>\n",
       "      <td>81.605131438</td>\n",
       "    </tr>\n",
       "    <tr>\n",
       "      <th>2</th>\n",
       "      <td>2015</td>\n",
       "      <td>Cerebrovascular Disease (Stroke: I60-I69)</td>\n",
       "      <td>Female</td>\n",
       "      <td>Asian and Pacific Islander</td>\n",
       "      <td>95</td>\n",
       "      <td>14.706861293</td>\n",
       "      <td>15.337930564</td>\n",
       "    </tr>\n",
       "    <tr>\n",
       "      <th>3</th>\n",
       "      <td>2015</td>\n",
       "      <td>Influenza (Flu) and Pneumonia (J09-J18)</td>\n",
       "      <td>Female</td>\n",
       "      <td>Asian and Pacific Islander</td>\n",
       "      <td>89</td>\n",
       "      <td>13.778006895</td>\n",
       "      <td>14.706362334</td>\n",
       "    </tr>\n",
       "    <tr>\n",
       "      <th>4</th>\n",
       "      <td>2015</td>\n",
       "      <td>Diabetes Mellitus (E10-E14)</td>\n",
       "      <td>Female</td>\n",
       "      <td>Asian and Pacific Islander</td>\n",
       "      <td>71</td>\n",
       "      <td>10.991443703</td>\n",
       "      <td>11.537396764</td>\n",
       "    </tr>\n",
       "    <tr>\n",
       "      <th>5</th>\n",
       "      <td>2015</td>\n",
       "      <td>Alzheimer's Disease (G30)</td>\n",
       "      <td>Female</td>\n",
       "      <td>Asian and Pacific Islander</td>\n",
       "      <td>50</td>\n",
       "      <td>7.7404533119</td>\n",
       "      <td>8.4169129758</td>\n",
       "    </tr>\n",
       "    <tr>\n",
       "      <th>6</th>\n",
       "      <td>2015</td>\n",
       "      <td>Chronic Lower Respiratory Diseases (J40-J47)</td>\n",
       "      <td>Female</td>\n",
       "      <td>Asian and Pacific Islander</td>\n",
       "      <td>41</td>\n",
       "      <td>6.3471717158</td>\n",
       "      <td>6.670309854</td>\n",
       "    </tr>\n",
       "  </tbody>\n",
       "</table>\n",
       "</div>"
      ],
      "text/plain": [
       "   Year                                   Leading Cause     Sex  \\\n",
       "0  2015           Malignant Neoplasms (Cancer: C00-C97)  Female   \n",
       "1  2015  Diseases of Heart (I00-I09, I11, I13, I20-I51)  Female   \n",
       "2  2015       Cerebrovascular Disease (Stroke: I60-I69)  Female   \n",
       "3  2015         Influenza (Flu) and Pneumonia (J09-J18)  Female   \n",
       "4  2015                     Diabetes Mellitus (E10-E14)  Female   \n",
       "5  2015                       Alzheimer's Disease (G30)  Female   \n",
       "6  2015    Chronic Lower Respiratory Diseases (J40-J47)  Female   \n",
       "\n",
       "               Race Ethnicity Deaths    Death Rate Age Adjusted Death Rate  \n",
       "0  Asian and Pacific Islander    515  79.726669113            78.865386427  \n",
       "1  Asian and Pacific Islander    498  77.094914987            81.605131438  \n",
       "2  Asian and Pacific Islander     95  14.706861293            15.337930564  \n",
       "3  Asian and Pacific Islander     89  13.778006895            14.706362334  \n",
       "4  Asian and Pacific Islander     71  10.991443703            11.537396764  \n",
       "5  Asian and Pacific Islander     50  7.7404533119            8.4169129758  \n",
       "6  Asian and Pacific Islander     41  6.3471717158             6.670309854  "
      ]
     },
     "execution_count": 2,
     "metadata": {},
     "output_type": "execute_result"
    }
   ],
   "source": [
    "data.head(7)"
   ]
  },
  {
   "cell_type": "markdown",
   "metadata": {},
   "source": [
    "## Count number of null values (if any) for each column"
   ]
  },
  {
   "cell_type": "code",
   "execution_count": 3,
   "metadata": {},
   "outputs": [
    {
     "data": {
      "text/plain": [
       "Year                         0\n",
       "Leading Cause                0\n",
       "Sex                          0\n",
       "Race Ethnicity               0\n",
       "Deaths                       0\n",
       "Death Rate                 157\n",
       "Age Adjusted Death Rate    157\n",
       "dtype: int64"
      ]
     },
     "execution_count": 3,
     "metadata": {},
     "output_type": "execute_result"
    }
   ],
   "source": [
    "data.isnull().sum()"
   ]
  },
  {
   "cell_type": "markdown",
   "metadata": {},
   "source": [
    "> Dari data yang digunakan diatas, data yang berupa null value tidak hanya berupa data yang tidak memiliki value, namun data yang berisi \".\" juga merupakan data yang bisa dianggap sebagai null value. Jadi untuk jumlah data null akan berubah menjadi sebagai berikut"
   ]
  },
  {
   "cell_type": "code",
   "execution_count": 4,
   "metadata": {},
   "outputs": [
    {
     "name": "stdout",
     "output_type": "stream",
     "text": [
      "<class 'pandas.core.frame.DataFrame'>\n",
      "RangeIndex: 1516 entries, 0 to 1515\n",
      "Data columns (total 7 columns):\n",
      " #   Column                   Non-Null Count  Dtype \n",
      "---  ------                   --------------  ----- \n",
      " 0   Year                     1516 non-null   int64 \n",
      " 1   Leading Cause            1516 non-null   object\n",
      " 2   Sex                      1516 non-null   object\n",
      " 3   Race Ethnicity           1516 non-null   object\n",
      " 4   Deaths                   1516 non-null   object\n",
      " 5   Death Rate               1359 non-null   object\n",
      " 6   Age Adjusted Death Rate  1359 non-null   object\n",
      "dtypes: int64(1), object(6)\n",
      "memory usage: 83.0+ KB\n"
     ]
    }
   ],
   "source": [
    "data.info()"
   ]
  },
  {
   "cell_type": "code",
   "execution_count": 5,
   "metadata": {},
   "outputs": [],
   "source": [
    "data['Deaths'].replace('.', np.nan, inplace=True)"
   ]
  },
  {
   "cell_type": "code",
   "execution_count": 6,
   "metadata": {},
   "outputs": [
    {
     "data": {
      "text/plain": [
       "Year                         0\n",
       "Leading Cause                0\n",
       "Sex                          0\n",
       "Race Ethnicity               0\n",
       "Deaths                     138\n",
       "Death Rate                 157\n",
       "Age Adjusted Death Rate    157\n",
       "dtype: int64"
      ]
     },
     "execution_count": 6,
     "metadata": {},
     "output_type": "execute_result"
    }
   ],
   "source": [
    "data.isnull().sum()"
   ]
  },
  {
   "cell_type": "markdown",
   "metadata": {},
   "source": [
    "> Dari informasi diatas dapat diketahui bahwa data yang memiliki null adalah kolom 'Deaths', 'Death Rate', dan 'Age Adjusted Death Rate'. Namun kita tahu bahwa kolom 'Deaths', 'Death Rate', 'Age Adjusted Death Rate' seharusnya bertipe data numeric sehingga perlu pengubahan tipe data. Kemudian saya akan menghapus data null yang ada di Deaths, Death Rate, dan Age Adjusted Death Rate. Jika data null hanya disalah satu atau salah dua dari ketiga kolom tersebut maka tidak saya hapus."
   ]
  },
  {
   "cell_type": "code",
   "execution_count": 7,
   "metadata": {
    "scrolled": true
   },
   "outputs": [
    {
     "data": {
      "text/html": [
       "<div>\n",
       "<style scoped>\n",
       "    .dataframe tbody tr th:only-of-type {\n",
       "        vertical-align: middle;\n",
       "    }\n",
       "\n",
       "    .dataframe tbody tr th {\n",
       "        vertical-align: top;\n",
       "    }\n",
       "\n",
       "    .dataframe thead th {\n",
       "        text-align: right;\n",
       "    }\n",
       "</style>\n",
       "<table border=\"1\" class=\"dataframe\">\n",
       "  <thead>\n",
       "    <tr style=\"text-align: right;\">\n",
       "      <th></th>\n",
       "      <th>Year</th>\n",
       "      <th>Leading Cause</th>\n",
       "      <th>Sex</th>\n",
       "      <th>Race Ethnicity</th>\n",
       "      <th>Deaths</th>\n",
       "      <th>Death Rate</th>\n",
       "      <th>Age Adjusted Death Rate</th>\n",
       "    </tr>\n",
       "  </thead>\n",
       "  <tbody>\n",
       "    <tr>\n",
       "      <th>0</th>\n",
       "      <td>2015</td>\n",
       "      <td>Malignant Neoplasms (Cancer: C00-C97)</td>\n",
       "      <td>Female</td>\n",
       "      <td>Asian and Pacific Islander</td>\n",
       "      <td>515</td>\n",
       "      <td>79.726669113</td>\n",
       "      <td>78.865386427</td>\n",
       "    </tr>\n",
       "    <tr>\n",
       "      <th>1</th>\n",
       "      <td>2015</td>\n",
       "      <td>Diseases of Heart (I00-I09, I11, I13, I20-I51)</td>\n",
       "      <td>Female</td>\n",
       "      <td>Asian and Pacific Islander</td>\n",
       "      <td>498</td>\n",
       "      <td>77.094914987</td>\n",
       "      <td>81.605131438</td>\n",
       "    </tr>\n",
       "    <tr>\n",
       "      <th>2</th>\n",
       "      <td>2015</td>\n",
       "      <td>Cerebrovascular Disease (Stroke: I60-I69)</td>\n",
       "      <td>Female</td>\n",
       "      <td>Asian and Pacific Islander</td>\n",
       "      <td>95</td>\n",
       "      <td>14.706861293</td>\n",
       "      <td>15.337930564</td>\n",
       "    </tr>\n",
       "    <tr>\n",
       "      <th>3</th>\n",
       "      <td>2015</td>\n",
       "      <td>Influenza (Flu) and Pneumonia (J09-J18)</td>\n",
       "      <td>Female</td>\n",
       "      <td>Asian and Pacific Islander</td>\n",
       "      <td>89</td>\n",
       "      <td>13.778006895</td>\n",
       "      <td>14.706362334</td>\n",
       "    </tr>\n",
       "    <tr>\n",
       "      <th>4</th>\n",
       "      <td>2015</td>\n",
       "      <td>Diabetes Mellitus (E10-E14)</td>\n",
       "      <td>Female</td>\n",
       "      <td>Asian and Pacific Islander</td>\n",
       "      <td>71</td>\n",
       "      <td>10.991443703</td>\n",
       "      <td>11.537396764</td>\n",
       "    </tr>\n",
       "    <tr>\n",
       "      <th>...</th>\n",
       "      <td>...</td>\n",
       "      <td>...</td>\n",
       "      <td>...</td>\n",
       "      <td>...</td>\n",
       "      <td>...</td>\n",
       "      <td>...</td>\n",
       "      <td>...</td>\n",
       "    </tr>\n",
       "    <tr>\n",
       "      <th>1373</th>\n",
       "      <td>2014</td>\n",
       "      <td>Accidents Except Drug Posioning (V01-X39, X43,...</td>\n",
       "      <td>F</td>\n",
       "      <td>Other Race/ Ethnicity</td>\n",
       "      <td>6</td>\n",
       "      <td>.</td>\n",
       "      <td>.</td>\n",
       "    </tr>\n",
       "    <tr>\n",
       "      <th>1374</th>\n",
       "      <td>2012</td>\n",
       "      <td>Diabetes Mellitus (E10-E14)</td>\n",
       "      <td>F</td>\n",
       "      <td>Black Non-Hispanic</td>\n",
       "      <td>409</td>\n",
       "      <td>39.1</td>\n",
       "      <td>33.8</td>\n",
       "    </tr>\n",
       "    <tr>\n",
       "      <th>1375</th>\n",
       "      <td>2012</td>\n",
       "      <td>Chronic Lower Respiratory Diseases (J40-J47)</td>\n",
       "      <td>F</td>\n",
       "      <td>Asian and Pacific Islander</td>\n",
       "      <td>39</td>\n",
       "      <td>6.7</td>\n",
       "      <td>8</td>\n",
       "    </tr>\n",
       "    <tr>\n",
       "      <th>1376</th>\n",
       "      <td>2012</td>\n",
       "      <td>Chronic Lower Respiratory Diseases (J40-J47)</td>\n",
       "      <td>F</td>\n",
       "      <td>Not Stated/Unknown</td>\n",
       "      <td>8</td>\n",
       "      <td>.</td>\n",
       "      <td>.</td>\n",
       "    </tr>\n",
       "    <tr>\n",
       "      <th>1377</th>\n",
       "      <td>2013</td>\n",
       "      <td>Accidents Except Drug Posioning (V01-X39, X43,...</td>\n",
       "      <td>M</td>\n",
       "      <td>Other Race/ Ethnicity</td>\n",
       "      <td>5</td>\n",
       "      <td>.</td>\n",
       "      <td>.</td>\n",
       "    </tr>\n",
       "  </tbody>\n",
       "</table>\n",
       "<p>1378 rows × 7 columns</p>\n",
       "</div>"
      ],
      "text/plain": [
       "      Year                                      Leading Cause     Sex  \\\n",
       "0     2015              Malignant Neoplasms (Cancer: C00-C97)  Female   \n",
       "1     2015     Diseases of Heart (I00-I09, I11, I13, I20-I51)  Female   \n",
       "2     2015          Cerebrovascular Disease (Stroke: I60-I69)  Female   \n",
       "3     2015            Influenza (Flu) and Pneumonia (J09-J18)  Female   \n",
       "4     2015                        Diabetes Mellitus (E10-E14)  Female   \n",
       "...    ...                                                ...     ...   \n",
       "1373  2014  Accidents Except Drug Posioning (V01-X39, X43,...       F   \n",
       "1374  2012                        Diabetes Mellitus (E10-E14)       F   \n",
       "1375  2012       Chronic Lower Respiratory Diseases (J40-J47)       F   \n",
       "1376  2012       Chronic Lower Respiratory Diseases (J40-J47)       F   \n",
       "1377  2013  Accidents Except Drug Posioning (V01-X39, X43,...       M   \n",
       "\n",
       "                  Race Ethnicity Deaths    Death Rate Age Adjusted Death Rate  \n",
       "0     Asian and Pacific Islander    515  79.726669113            78.865386427  \n",
       "1     Asian and Pacific Islander    498  77.094914987            81.605131438  \n",
       "2     Asian and Pacific Islander     95  14.706861293            15.337930564  \n",
       "3     Asian and Pacific Islander     89  13.778006895            14.706362334  \n",
       "4     Asian and Pacific Islander     71  10.991443703            11.537396764  \n",
       "...                          ...    ...           ...                     ...  \n",
       "1373       Other Race/ Ethnicity      6             .                       .  \n",
       "1374          Black Non-Hispanic    409          39.1                    33.8  \n",
       "1375  Asian and Pacific Islander     39           6.7                       8  \n",
       "1376          Not Stated/Unknown      8             .                       .  \n",
       "1377       Other Race/ Ethnicity      5             .                       .  \n",
       "\n",
       "[1378 rows x 7 columns]"
      ]
     },
     "execution_count": 7,
     "metadata": {},
     "output_type": "execute_result"
    }
   ],
   "source": [
    "data = data[pd.to_numeric(data['Deaths'], errors='coerce').notnull()]\n",
    "data.reset_index(drop=True)"
   ]
  },
  {
   "cell_type": "code",
   "execution_count": 8,
   "metadata": {},
   "outputs": [
    {
     "name": "stdout",
     "output_type": "stream",
     "text": [
      "<class 'pandas.core.frame.DataFrame'>\n",
      "Int64Index: 1378 entries, 0 to 1515\n",
      "Data columns (total 7 columns):\n",
      " #   Column                   Non-Null Count  Dtype \n",
      "---  ------                   --------------  ----- \n",
      " 0   Year                     1378 non-null   int64 \n",
      " 1   Leading Cause            1378 non-null   object\n",
      " 2   Sex                      1378 non-null   object\n",
      " 3   Race Ethnicity           1378 non-null   object\n",
      " 4   Deaths                   1378 non-null   object\n",
      " 5   Death Rate               1221 non-null   object\n",
      " 6   Age Adjusted Death Rate  1221 non-null   object\n",
      "dtypes: int64(1), object(6)\n",
      "memory usage: 86.1+ KB\n"
     ]
    }
   ],
   "source": [
    "data.info()"
   ]
  },
  {
   "cell_type": "code",
   "execution_count": 9,
   "metadata": {},
   "outputs": [
    {
     "name": "stderr",
     "output_type": "stream",
     "text": [
      "<ipython-input-9-553d2125955f>:2: SettingWithCopyWarning: \n",
      "A value is trying to be set on a copy of a slice from a DataFrame.\n",
      "Try using .loc[row_indexer,col_indexer] = value instead\n",
      "\n",
      "See the caveats in the documentation: https://pandas.pydata.org/pandas-docs/stable/user_guide/indexing.html#returning-a-view-versus-a-copy\n",
      "  data['Deaths'] = pd.to_numeric(data['Deaths'])\n",
      "c:\\users\\kamal\\appdata\\local\\programs\\python\\python39\\lib\\site-packages\\pandas\\core\\frame.py:3188: SettingWithCopyWarning: \n",
      "A value is trying to be set on a copy of a slice from a DataFrame.\n",
      "Try using .loc[row_indexer,col_indexer] = value instead\n",
      "\n",
      "See the caveats in the documentation: https://pandas.pydata.org/pandas-docs/stable/user_guide/indexing.html#returning-a-view-versus-a-copy\n",
      "  self[k1] = value[k2]\n"
     ]
    }
   ],
   "source": [
    "nums = ['Death Rate', 'Age Adjusted Death Rate']\n",
    "data['Deaths'] = pd.to_numeric(data['Deaths'])\n",
    "data[nums] = data[nums].apply(pd.to_numeric, errors='coerce', axis=1)"
   ]
  },
  {
   "cell_type": "code",
   "execution_count": 10,
   "metadata": {},
   "outputs": [
    {
     "name": "stdout",
     "output_type": "stream",
     "text": [
      "<class 'pandas.core.frame.DataFrame'>\n",
      "Int64Index: 1378 entries, 0 to 1515\n",
      "Data columns (total 7 columns):\n",
      " #   Column                   Non-Null Count  Dtype  \n",
      "---  ------                   --------------  -----  \n",
      " 0   Year                     1378 non-null   int64  \n",
      " 1   Leading Cause            1378 non-null   object \n",
      " 2   Sex                      1378 non-null   object \n",
      " 3   Race Ethnicity           1378 non-null   object \n",
      " 4   Deaths                   1378 non-null   int64  \n",
      " 5   Death Rate               973 non-null    float64\n",
      " 6   Age Adjusted Death Rate  973 non-null    float64\n",
      "dtypes: float64(2), int64(2), object(3)\n",
      "memory usage: 86.1+ KB\n"
     ]
    }
   ],
   "source": [
    "data.info()"
   ]
  },
  {
   "cell_type": "markdown",
   "metadata": {},
   "source": [
    "## Remove all but 2 numerical values columns of your choice and display the reducted dataframe."
   ]
  },
  {
   "cell_type": "code",
   "execution_count": 11,
   "metadata": {},
   "outputs": [
    {
     "data": {
      "text/html": [
       "<div>\n",
       "<style scoped>\n",
       "    .dataframe tbody tr th:only-of-type {\n",
       "        vertical-align: middle;\n",
       "    }\n",
       "\n",
       "    .dataframe tbody tr th {\n",
       "        vertical-align: top;\n",
       "    }\n",
       "\n",
       "    .dataframe thead th {\n",
       "        text-align: right;\n",
       "    }\n",
       "</style>\n",
       "<table border=\"1\" class=\"dataframe\">\n",
       "  <thead>\n",
       "    <tr style=\"text-align: right;\">\n",
       "      <th></th>\n",
       "      <th>Death Rate</th>\n",
       "      <th>Age Adjusted Death Rate</th>\n",
       "    </tr>\n",
       "  </thead>\n",
       "  <tbody>\n",
       "    <tr>\n",
       "      <th>0</th>\n",
       "      <td>79.726669</td>\n",
       "      <td>78.865386</td>\n",
       "    </tr>\n",
       "    <tr>\n",
       "      <th>1</th>\n",
       "      <td>77.094915</td>\n",
       "      <td>81.605131</td>\n",
       "    </tr>\n",
       "    <tr>\n",
       "      <th>2</th>\n",
       "      <td>14.706861</td>\n",
       "      <td>15.337931</td>\n",
       "    </tr>\n",
       "    <tr>\n",
       "      <th>3</th>\n",
       "      <td>13.778007</td>\n",
       "      <td>14.706362</td>\n",
       "    </tr>\n",
       "    <tr>\n",
       "      <th>4</th>\n",
       "      <td>10.991444</td>\n",
       "      <td>11.537397</td>\n",
       "    </tr>\n",
       "    <tr>\n",
       "      <th>...</th>\n",
       "      <td>...</td>\n",
       "      <td>...</td>\n",
       "    </tr>\n",
       "    <tr>\n",
       "      <th>1511</th>\n",
       "      <td>NaN</td>\n",
       "      <td>NaN</td>\n",
       "    </tr>\n",
       "    <tr>\n",
       "      <th>1512</th>\n",
       "      <td>39.100000</td>\n",
       "      <td>33.800000</td>\n",
       "    </tr>\n",
       "    <tr>\n",
       "      <th>1513</th>\n",
       "      <td>6.700000</td>\n",
       "      <td>8.000000</td>\n",
       "    </tr>\n",
       "    <tr>\n",
       "      <th>1514</th>\n",
       "      <td>NaN</td>\n",
       "      <td>NaN</td>\n",
       "    </tr>\n",
       "    <tr>\n",
       "      <th>1515</th>\n",
       "      <td>NaN</td>\n",
       "      <td>NaN</td>\n",
       "    </tr>\n",
       "  </tbody>\n",
       "</table>\n",
       "<p>1378 rows × 2 columns</p>\n",
       "</div>"
      ],
      "text/plain": [
       "      Death Rate  Age Adjusted Death Rate\n",
       "0      79.726669                78.865386\n",
       "1      77.094915                81.605131\n",
       "2      14.706861                15.337931\n",
       "3      13.778007                14.706362\n",
       "4      10.991444                11.537397\n",
       "...          ...                      ...\n",
       "1511         NaN                      NaN\n",
       "1512   39.100000                33.800000\n",
       "1513    6.700000                 8.000000\n",
       "1514         NaN                      NaN\n",
       "1515         NaN                      NaN\n",
       "\n",
       "[1378 rows x 2 columns]"
      ]
     },
     "execution_count": 11,
     "metadata": {},
     "output_type": "execute_result"
    }
   ],
   "source": [
    "data = data.drop(['Year', 'Leading Cause', 'Sex', 'Race Ethnicity', 'Deaths'], axis=1)\n",
    "data"
   ]
  },
  {
   "cell_type": "markdown",
   "metadata": {},
   "source": [
    "## Display the average, median, and standard deviation of each of your numerical columns"
   ]
  },
  {
   "cell_type": "code",
   "execution_count": 12,
   "metadata": {},
   "outputs": [
    {
     "data": {
      "text/html": [
       "<div>\n",
       "<style scoped>\n",
       "    .dataframe tbody tr th:only-of-type {\n",
       "        vertical-align: middle;\n",
       "    }\n",
       "\n",
       "    .dataframe tbody tr th {\n",
       "        vertical-align: top;\n",
       "    }\n",
       "\n",
       "    .dataframe thead th {\n",
       "        text-align: right;\n",
       "    }\n",
       "</style>\n",
       "<table border=\"1\" class=\"dataframe\">\n",
       "  <thead>\n",
       "    <tr style=\"text-align: right;\">\n",
       "      <th></th>\n",
       "      <th>Death Rate</th>\n",
       "      <th>Age Adjusted Death Rate</th>\n",
       "    </tr>\n",
       "  </thead>\n",
       "  <tbody>\n",
       "    <tr>\n",
       "      <th>mean</th>\n",
       "      <td>53.632101</td>\n",
       "      <td>52.342639</td>\n",
       "    </tr>\n",
       "    <tr>\n",
       "      <th>median</th>\n",
       "      <td>18.860426</td>\n",
       "      <td>19.690289</td>\n",
       "    </tr>\n",
       "    <tr>\n",
       "      <th>std</th>\n",
       "      <td>75.036033</td>\n",
       "      <td>66.958025</td>\n",
       "    </tr>\n",
       "  </tbody>\n",
       "</table>\n",
       "</div>"
      ],
      "text/plain": [
       "        Death Rate  Age Adjusted Death Rate\n",
       "mean     53.632101                52.342639\n",
       "median   18.860426                19.690289\n",
       "std      75.036033                66.958025"
      ]
     },
     "execution_count": 12,
     "metadata": {},
     "output_type": "execute_result"
    }
   ],
   "source": [
    "stat = data.agg(['mean','median', 'std'])\n",
    "stat"
   ]
  },
  {
   "cell_type": "code",
   "execution_count": 13,
   "metadata": {},
   "outputs": [
    {
     "data": {
      "image/png": "[encoded data removed]",
      "text/plain": [
       "<Figure size 648x576 with 1 Axes>"
      ]
     },
     "metadata": {
      "needs_background": "light"
     },
     "output_type": "display_data"
    }
   ],
   "source": [
    "stat.plot(y=[\"Death Rate\",\"Age Adjusted Death Rate\"], kind=\"bar\",figsize=(9,8))\n",
    "plt.xticks(rotation=0)\n",
    "plt.show()"
   ]
  },
  {
   "cell_type": "code",
   "execution_count": 14,
   "metadata": {},
   "outputs": [
    {
     "data": {
      "text/plain": [
       "53.63210073668993"
      ]
     },
     "execution_count": 14,
     "metadata": {},
     "output_type": "execute_result"
    }
   ],
   "source": [
    "data['Death Rate'].mean()"
   ]
  },
  {
   "cell_type": "markdown",
   "metadata": {},
   "source": [
    "## Plot two of the numerical columns one against the other in a scatter plot"
   ]
  },
  {
   "cell_type": "code",
   "execution_count": 15,
   "metadata": {},
   "outputs": [
    {
     "data": {
      "text/plain": [
       "<AxesSubplot:xlabel='Death Rate', ylabel='Age Adjusted Death Rate'>"
      ]
     },
     "execution_count": 15,
     "metadata": {},
     "output_type": "execute_result"
    },
    {
     "data": {
      "image/png": "[encoded data removed]",
      "text/plain": [
       "<Figure size 842.4x595.44 with 1 Axes>"
      ]
     },
     "metadata": {},
     "output_type": "display_data"
    }
   ],
   "source": [
    "import seaborn as sns\n",
    "sns.set(rc={'figure.figsize':(11.7,8.27)})\n",
    "sns.regplot(data=data, \n",
    "            x=\"Death Rate\", y=\"Age Adjusted Death Rate\",\n",
    "            line_kws={\"color\": \"red\"})"
   ]
  },
  {
   "cell_type": "markdown",
   "metadata": {},
   "source": [
    "## Plot your data distributions in histogram and boxplot"
   ]
  },
  {
   "cell_type": "code",
   "execution_count": 16,
   "metadata": {},
   "outputs": [
    {
     "data": {
      "text/plain": [
       "<AxesSubplot:xlabel='Death Rate', ylabel='Count'>"
      ]
     },
     "execution_count": 16,
     "metadata": {},
     "output_type": "execute_result"
    },
    {
     "data": {
      "image/png": "[encoded data removed]",
      "text/plain": [
       "<Figure size 842.4x595.44 with 1 Axes>"
      ]
     },
     "metadata": {},
     "output_type": "display_data"
    }
   ],
   "source": [
    "sns.histplot(data=data, x=\"Death Rate\", kde=True)"
   ]
  },
  {
   "cell_type": "code",
   "execution_count": 17,
   "metadata": {},
   "outputs": [
    {
     "data": {
      "text/plain": [
       "<AxesSubplot:xlabel='Age Adjusted Death Rate', ylabel='Count'>"
      ]
     },
     "execution_count": 17,
     "metadata": {},
     "output_type": "execute_result"
    },
    {
     "data": {
      "image/png": "[encoded data removed]",
      "text/plain": [
       "<Figure size 842.4x595.44 with 1 Axes>"
      ]
     },
     "metadata": {},
     "output_type": "display_data"
    }
   ],
   "source": [
    "sns.histplot(data=data, x=\"Age Adjusted Death Rate\", kde=True)"
   ]
  },
  {
   "cell_type": "code",
   "execution_count": 18,
   "metadata": {},
   "outputs": [
    {
     "data": {
      "text/plain": [
       "<AxesSubplot:>"
      ]
     },
     "execution_count": 18,
     "metadata": {},
     "output_type": "execute_result"
    },
    {
     "data": {
      "image/png": "[encoded data removed]",
      "text/plain": [
       "<Figure size 842.4x595.44 with 1 Axes>"
      ]
     },
     "metadata": {},
     "output_type": "display_data"
    }
   ],
   "source": [
    "sns.boxplot(data=data, orient='v')"
   ]
  },
  {
   "cell_type": "markdown",
   "metadata": {},
   "source": [
    "## Create a new column in the same dataframe that is raised power of two of an existing column\n",
    "Example:\n",
    "![power_of_two](images/ex1.jpeg)\n"
   ]
  },
  {
   "cell_type": "code",
   "execution_count": 19,
   "metadata": {},
   "outputs": [
    {
     "data": {
      "text/html": [
       "<div>\n",
       "<style scoped>\n",
       "    .dataframe tbody tr th:only-of-type {\n",
       "        vertical-align: middle;\n",
       "    }\n",
       "\n",
       "    .dataframe tbody tr th {\n",
       "        vertical-align: top;\n",
       "    }\n",
       "\n",
       "    .dataframe thead th {\n",
       "        text-align: right;\n",
       "    }\n",
       "</style>\n",
       "<table border=\"1\" class=\"dataframe\">\n",
       "  <thead>\n",
       "    <tr style=\"text-align: right;\">\n",
       "      <th></th>\n",
       "      <th>Death Rate</th>\n",
       "      <th>Age Adjusted Death Rate</th>\n",
       "      <th>DR_Raised_power_value</th>\n",
       "      <th>AADR_Raised_power_value</th>\n",
       "    </tr>\n",
       "  </thead>\n",
       "  <tbody>\n",
       "    <tr>\n",
       "      <th>0</th>\n",
       "      <td>79.726669</td>\n",
       "      <td>78.865386</td>\n",
       "      <td>6356.341768</td>\n",
       "      <td>6219.749176</td>\n",
       "    </tr>\n",
       "    <tr>\n",
       "      <th>1</th>\n",
       "      <td>77.094915</td>\n",
       "      <td>81.605131</td>\n",
       "      <td>5943.625917</td>\n",
       "      <td>6659.397477</td>\n",
       "    </tr>\n",
       "    <tr>\n",
       "      <th>2</th>\n",
       "      <td>14.706861</td>\n",
       "      <td>15.337931</td>\n",
       "      <td>216.291769</td>\n",
       "      <td>235.252114</td>\n",
       "    </tr>\n",
       "    <tr>\n",
       "      <th>3</th>\n",
       "      <td>13.778007</td>\n",
       "      <td>14.706362</td>\n",
       "      <td>189.833474</td>\n",
       "      <td>216.277093</td>\n",
       "    </tr>\n",
       "    <tr>\n",
       "      <th>4</th>\n",
       "      <td>10.991444</td>\n",
       "      <td>11.537397</td>\n",
       "      <td>120.811835</td>\n",
       "      <td>133.111524</td>\n",
       "    </tr>\n",
       "    <tr>\n",
       "      <th>...</th>\n",
       "      <td>...</td>\n",
       "      <td>...</td>\n",
       "      <td>...</td>\n",
       "      <td>...</td>\n",
       "    </tr>\n",
       "    <tr>\n",
       "      <th>1511</th>\n",
       "      <td>NaN</td>\n",
       "      <td>NaN</td>\n",
       "      <td>NaN</td>\n",
       "      <td>NaN</td>\n",
       "    </tr>\n",
       "    <tr>\n",
       "      <th>1512</th>\n",
       "      <td>39.100000</td>\n",
       "      <td>33.800000</td>\n",
       "      <td>1528.810000</td>\n",
       "      <td>1142.440000</td>\n",
       "    </tr>\n",
       "    <tr>\n",
       "      <th>1513</th>\n",
       "      <td>6.700000</td>\n",
       "      <td>8.000000</td>\n",
       "      <td>44.890000</td>\n",
       "      <td>64.000000</td>\n",
       "    </tr>\n",
       "    <tr>\n",
       "      <th>1514</th>\n",
       "      <td>NaN</td>\n",
       "      <td>NaN</td>\n",
       "      <td>NaN</td>\n",
       "      <td>NaN</td>\n",
       "    </tr>\n",
       "    <tr>\n",
       "      <th>1515</th>\n",
       "      <td>NaN</td>\n",
       "      <td>NaN</td>\n",
       "      <td>NaN</td>\n",
       "      <td>NaN</td>\n",
       "    </tr>\n",
       "  </tbody>\n",
       "</table>\n",
       "<p>1378 rows × 4 columns</p>\n",
       "</div>"
      ],
      "text/plain": [
       "      Death Rate  Age Adjusted Death Rate  DR_Raised_power_value  \\\n",
       "0      79.726669                78.865386            6356.341768   \n",
       "1      77.094915                81.605131            5943.625917   \n",
       "2      14.706861                15.337931             216.291769   \n",
       "3      13.778007                14.706362             189.833474   \n",
       "4      10.991444                11.537397             120.811835   \n",
       "...          ...                      ...                    ...   \n",
       "1511         NaN                      NaN                    NaN   \n",
       "1512   39.100000                33.800000            1528.810000   \n",
       "1513    6.700000                 8.000000              44.890000   \n",
       "1514         NaN                      NaN                    NaN   \n",
       "1515         NaN                      NaN                    NaN   \n",
       "\n",
       "      AADR_Raised_power_value  \n",
       "0                 6219.749176  \n",
       "1                 6659.397477  \n",
       "2                  235.252114  \n",
       "3                  216.277093  \n",
       "4                  133.111524  \n",
       "...                       ...  \n",
       "1511                      NaN  \n",
       "1512              1142.440000  \n",
       "1513                64.000000  \n",
       "1514                      NaN  \n",
       "1515                      NaN  \n",
       "\n",
       "[1378 rows x 4 columns]"
      ]
     },
     "execution_count": 19,
     "metadata": {},
     "output_type": "execute_result"
    }
   ],
   "source": [
    "data = data.assign(**{'DR_Raised_power_value': data['Death Rate'].apply(lambda x:x**2), 'AADR_Raised_power_value': data['Age Adjusted Death Rate'].apply(lambda x:x**2)})\n",
    "data"
   ]
  },
  {
   "cell_type": "markdown",
   "metadata": {},
   "source": [
    "# Citi Bike investigation\n",
    "![citi-bike](images/citibike.jpeg)\n",
    ">Citi Bike is the largest bike share program in the US, with 20,000 bikes and over 1,300 stations across Manhattan, Brooklyn, Queens, the Bronx and Jersey City. It was designed for quick trips with convenience in mind, and it’s a fun and affordable way to get around town."
   ]
  },
  {
   "cell_type": "markdown",
   "metadata": {},
   "source": [
    "## Choose a citibikes dataset (one or two months, earlier datasets are convenient because they are smaller)"
   ]
  },
  {
   "cell_type": "markdown",
   "metadata": {},
   "source": [
    "Example for downloading September 2017 Citibike data:\n",
    "```\n",
    "! month=201709\n",
    "! curl https://s3.amazonaws.com/tripdata/$month-citibike-tripdata.csv.zip >> $month-citibike-tripdata.csv.zip\n",
    "! unzip $month-citibike-tripdata.csv.zip\n",
    "```"
   ]
  },
  {
   "cell_type": "code",
   "execution_count": 30,
   "metadata": {},
   "outputs": [
    {
     "name": "stdout",
     "output_type": "stream",
     "text": [
      "100% [........................................................................] 65875226 / 65875226"
     ]
    },
    {
     "data": {
      "text/plain": [
       "'dataset/201709-citibike-tripdata.csv.zip'"
      ]
     },
     "execution_count": 30,
     "metadata": {},
     "output_type": "execute_result"
    }
   ],
   "source": [
    "import wget\n",
    "url = 'https://s3.amazonaws.com/tripdata/201709-citibike-tripdata.csv.zip'\n",
    "filename = wget.download(url, out='dataset')\n",
    "filename"
   ]
  },
  {
   "cell_type": "code",
   "execution_count": 32,
   "metadata": {},
   "outputs": [],
   "source": [
    "import zipfile\n",
    "local_zip = 'dataset/201709-citibike-tripdata.csv.zip'\n",
    "zip_ref = zipfile.ZipFile(local_zip, 'r')\n",
    "zip_ref.extractall('dataset')\n",
    "zip_ref.close()"
   ]
  },
  {
   "cell_type": "code",
   "execution_count": 20,
   "metadata": {},
   "outputs": [
    {
     "data": {
      "text/html": [
       "<div>\n",
       "<style scoped>\n",
       "    .dataframe tbody tr th:only-of-type {\n",
       "        vertical-align: middle;\n",
       "    }\n",
       "\n",
       "    .dataframe tbody tr th {\n",
       "        vertical-align: top;\n",
       "    }\n",
       "\n",
       "    .dataframe thead th {\n",
       "        text-align: right;\n",
       "    }\n",
       "</style>\n",
       "<table border=\"1\" class=\"dataframe\">\n",
       "  <thead>\n",
       "    <tr style=\"text-align: right;\">\n",
       "      <th></th>\n",
       "      <th>tripduration</th>\n",
       "      <th>starttime</th>\n",
       "      <th>stoptime</th>\n",
       "      <th>start station id</th>\n",
       "      <th>start station name</th>\n",
       "      <th>start station latitude</th>\n",
       "      <th>start station longitude</th>\n",
       "      <th>end station id</th>\n",
       "      <th>end station name</th>\n",
       "      <th>end station latitude</th>\n",
       "      <th>end station longitude</th>\n",
       "      <th>bikeid</th>\n",
       "      <th>usertype</th>\n",
       "      <th>birth year</th>\n",
       "      <th>gender</th>\n",
       "    </tr>\n",
       "  </thead>\n",
       "  <tbody>\n",
       "    <tr>\n",
       "      <th>995800</th>\n",
       "      <td>701</td>\n",
       "      <td>2017-09-17 14:34:27</td>\n",
       "      <td>2017-09-17 14:46:08</td>\n",
       "      <td>3416</td>\n",
       "      <td>7 Ave &amp; Park Pl</td>\n",
       "      <td>40.677615</td>\n",
       "      <td>-73.973243</td>\n",
       "      <td>3396</td>\n",
       "      <td>Clinton St &amp; 4 Place</td>\n",
       "      <td>40.678356</td>\n",
       "      <td>-74.000145</td>\n",
       "      <td>26694</td>\n",
       "      <td>Subscriber</td>\n",
       "      <td>1985.0</td>\n",
       "      <td>1</td>\n",
       "    </tr>\n",
       "    <tr>\n",
       "      <th>1063338</th>\n",
       "      <td>148</td>\n",
       "      <td>2017-09-18 16:37:12</td>\n",
       "      <td>2017-09-18 16:39:40</td>\n",
       "      <td>383</td>\n",
       "      <td>Greenwich Ave &amp; Charles St</td>\n",
       "      <td>40.735238</td>\n",
       "      <td>-74.000271</td>\n",
       "      <td>284</td>\n",
       "      <td>Greenwich Ave &amp; 8 Ave</td>\n",
       "      <td>40.739017</td>\n",
       "      <td>-74.002638</td>\n",
       "      <td>24964</td>\n",
       "      <td>Subscriber</td>\n",
       "      <td>1991.0</td>\n",
       "      <td>1</td>\n",
       "    </tr>\n",
       "    <tr>\n",
       "      <th>997203</th>\n",
       "      <td>341</td>\n",
       "      <td>2017-09-17 14:50:00</td>\n",
       "      <td>2017-09-17 14:55:42</td>\n",
       "      <td>3159</td>\n",
       "      <td>W 67 St &amp; Broadway</td>\n",
       "      <td>40.774925</td>\n",
       "      <td>-73.982666</td>\n",
       "      <td>423</td>\n",
       "      <td>W 54 St &amp; 9 Ave</td>\n",
       "      <td>40.765849</td>\n",
       "      <td>-73.986905</td>\n",
       "      <td>17381</td>\n",
       "      <td>Subscriber</td>\n",
       "      <td>1974.0</td>\n",
       "      <td>1</td>\n",
       "    </tr>\n",
       "    <tr>\n",
       "      <th>1836033</th>\n",
       "      <td>334</td>\n",
       "      <td>2017-09-30 10:13:46</td>\n",
       "      <td>2017-09-30 10:19:20</td>\n",
       "      <td>223</td>\n",
       "      <td>W 13 St &amp; 7 Ave</td>\n",
       "      <td>40.737815</td>\n",
       "      <td>-73.999947</td>\n",
       "      <td>435</td>\n",
       "      <td>W 21 St &amp; 6 Ave</td>\n",
       "      <td>40.741740</td>\n",
       "      <td>-73.994156</td>\n",
       "      <td>27820</td>\n",
       "      <td>Subscriber</td>\n",
       "      <td>1961.0</td>\n",
       "      <td>1</td>\n",
       "    </tr>\n",
       "    <tr>\n",
       "      <th>1846188</th>\n",
       "      <td>1407</td>\n",
       "      <td>2017-09-30 12:56:01</td>\n",
       "      <td>2017-09-30 13:19:29</td>\n",
       "      <td>466</td>\n",
       "      <td>W 25 St &amp; 6 Ave</td>\n",
       "      <td>40.743954</td>\n",
       "      <td>-73.991449</td>\n",
       "      <td>523</td>\n",
       "      <td>W 38 St &amp; 8 Ave</td>\n",
       "      <td>40.754666</td>\n",
       "      <td>-73.991382</td>\n",
       "      <td>17149</td>\n",
       "      <td>Customer</td>\n",
       "      <td>NaN</td>\n",
       "      <td>0</td>\n",
       "    </tr>\n",
       "    <tr>\n",
       "      <th>1449213</th>\n",
       "      <td>13024</td>\n",
       "      <td>2017-09-24 14:36:57</td>\n",
       "      <td>2017-09-24 18:14:02</td>\n",
       "      <td>217</td>\n",
       "      <td>Old Fulton St</td>\n",
       "      <td>40.702772</td>\n",
       "      <td>-73.993836</td>\n",
       "      <td>151</td>\n",
       "      <td>Cleveland Pl &amp; Spring St</td>\n",
       "      <td>40.722104</td>\n",
       "      <td>-73.997249</td>\n",
       "      <td>27656</td>\n",
       "      <td>Customer</td>\n",
       "      <td>NaN</td>\n",
       "      <td>0</td>\n",
       "    </tr>\n",
       "    <tr>\n",
       "      <th>1696432</th>\n",
       "      <td>348</td>\n",
       "      <td>2017-09-28 07:49:28</td>\n",
       "      <td>2017-09-28 07:55:16</td>\n",
       "      <td>3231</td>\n",
       "      <td>E 67 St &amp; Park Ave</td>\n",
       "      <td>40.767801</td>\n",
       "      <td>-73.965921</td>\n",
       "      <td>522</td>\n",
       "      <td>E 51 St &amp; Lexington Ave</td>\n",
       "      <td>40.757148</td>\n",
       "      <td>-73.972078</td>\n",
       "      <td>15549</td>\n",
       "      <td>Subscriber</td>\n",
       "      <td>1966.0</td>\n",
       "      <td>1</td>\n",
       "    </tr>\n",
       "    <tr>\n",
       "      <th>124045</th>\n",
       "      <td>1632069</td>\n",
       "      <td>2017-09-04 00:32:33</td>\n",
       "      <td>2017-09-22 21:53:43</td>\n",
       "      <td>513</td>\n",
       "      <td>W 56 St &amp; 10 Ave</td>\n",
       "      <td>40.768254</td>\n",
       "      <td>-73.988639</td>\n",
       "      <td>3432</td>\n",
       "      <td>NYCBS Depot - GOW</td>\n",
       "      <td>40.669060</td>\n",
       "      <td>-73.994637</td>\n",
       "      <td>27475</td>\n",
       "      <td>Customer</td>\n",
       "      <td>NaN</td>\n",
       "      <td>0</td>\n",
       "    </tr>\n",
       "    <tr>\n",
       "      <th>1617988</th>\n",
       "      <td>620</td>\n",
       "      <td>2017-09-26 22:16:14</td>\n",
       "      <td>2017-09-26 22:26:35</td>\n",
       "      <td>267</td>\n",
       "      <td>Broadway &amp; W 36 St</td>\n",
       "      <td>40.750977</td>\n",
       "      <td>-73.987654</td>\n",
       "      <td>382</td>\n",
       "      <td>University Pl &amp; E 14 St</td>\n",
       "      <td>40.734927</td>\n",
       "      <td>-73.992005</td>\n",
       "      <td>27703</td>\n",
       "      <td>Subscriber</td>\n",
       "      <td>1965.0</td>\n",
       "      <td>2</td>\n",
       "    </tr>\n",
       "    <tr>\n",
       "      <th>615476</th>\n",
       "      <td>1294</td>\n",
       "      <td>2017-09-11 21:39:40</td>\n",
       "      <td>2017-09-11 22:01:15</td>\n",
       "      <td>3409</td>\n",
       "      <td>Bergen St &amp; Smith St</td>\n",
       "      <td>40.686744</td>\n",
       "      <td>-73.990632</td>\n",
       "      <td>3041</td>\n",
       "      <td>Kingston Ave &amp; Herkimer St</td>\n",
       "      <td>40.678907</td>\n",
       "      <td>-73.941428</td>\n",
       "      <td>29846</td>\n",
       "      <td>Subscriber</td>\n",
       "      <td>1986.0</td>\n",
       "      <td>2</td>\n",
       "    </tr>\n",
       "  </tbody>\n",
       "</table>\n",
       "</div>"
      ],
      "text/plain": [
       "         tripduration            starttime             stoptime  \\\n",
       "995800            701  2017-09-17 14:34:27  2017-09-17 14:46:08   \n",
       "1063338           148  2017-09-18 16:37:12  2017-09-18 16:39:40   \n",
       "997203            341  2017-09-17 14:50:00  2017-09-17 14:55:42   \n",
       "1836033           334  2017-09-30 10:13:46  2017-09-30 10:19:20   \n",
       "1846188          1407  2017-09-30 12:56:01  2017-09-30 13:19:29   \n",
       "1449213         13024  2017-09-24 14:36:57  2017-09-24 18:14:02   \n",
       "1696432           348  2017-09-28 07:49:28  2017-09-28 07:55:16   \n",
       "124045        1632069  2017-09-04 00:32:33  2017-09-22 21:53:43   \n",
       "1617988           620  2017-09-26 22:16:14  2017-09-26 22:26:35   \n",
       "615476           1294  2017-09-11 21:39:40  2017-09-11 22:01:15   \n",
       "\n",
       "         start station id          start station name  start station latitude  \\\n",
       "995800               3416             7 Ave & Park Pl               40.677615   \n",
       "1063338               383  Greenwich Ave & Charles St               40.735238   \n",
       "997203               3159          W 67 St & Broadway               40.774925   \n",
       "1836033               223             W 13 St & 7 Ave               40.737815   \n",
       "1846188               466             W 25 St & 6 Ave               40.743954   \n",
       "1449213               217               Old Fulton St               40.702772   \n",
       "1696432              3231          E 67 St & Park Ave               40.767801   \n",
       "124045                513            W 56 St & 10 Ave               40.768254   \n",
       "1617988               267          Broadway & W 36 St               40.750977   \n",
       "615476               3409        Bergen St & Smith St               40.686744   \n",
       "\n",
       "         start station longitude  end station id            end station name  \\\n",
       "995800                -73.973243            3396        Clinton St & 4 Place   \n",
       "1063338               -74.000271             284       Greenwich Ave & 8 Ave   \n",
       "997203                -73.982666             423             W 54 St & 9 Ave   \n",
       "1836033               -73.999947             435             W 21 St & 6 Ave   \n",
       "1846188               -73.991449             523             W 38 St & 8 Ave   \n",
       "1449213               -73.993836             151    Cleveland Pl & Spring St   \n",
       "1696432               -73.965921             522     E 51 St & Lexington Ave   \n",
       "124045                -73.988639            3432           NYCBS Depot - GOW   \n",
       "1617988               -73.987654             382     University Pl & E 14 St   \n",
       "615476                -73.990632            3041  Kingston Ave & Herkimer St   \n",
       "\n",
       "         end station latitude  end station longitude  bikeid    usertype  \\\n",
       "995800              40.678356             -74.000145   26694  Subscriber   \n",
       "1063338             40.739017             -74.002638   24964  Subscriber   \n",
       "997203              40.765849             -73.986905   17381  Subscriber   \n",
       "1836033             40.741740             -73.994156   27820  Subscriber   \n",
       "1846188             40.754666             -73.991382   17149    Customer   \n",
       "1449213             40.722104             -73.997249   27656    Customer   \n",
       "1696432             40.757148             -73.972078   15549  Subscriber   \n",
       "124045              40.669060             -73.994637   27475    Customer   \n",
       "1617988             40.734927             -73.992005   27703  Subscriber   \n",
       "615476              40.678907             -73.941428   29846  Subscriber   \n",
       "\n",
       "         birth year  gender  \n",
       "995800       1985.0       1  \n",
       "1063338      1991.0       1  \n",
       "997203       1974.0       1  \n",
       "1836033      1961.0       1  \n",
       "1846188         NaN       0  \n",
       "1449213         NaN       0  \n",
       "1696432      1966.0       1  \n",
       "124045          NaN       0  \n",
       "1617988      1965.0       2  \n",
       "615476       1986.0       2  "
      ]
     },
     "execution_count": 20,
     "metadata": {},
     "output_type": "execute_result"
    }
   ],
   "source": [
    "df = pd.read_csv('dataset/201709-citibike-tripdata.csv')\n",
    "df.sample(10)"
   ]
  },
  {
   "cell_type": "markdown",
   "metadata": {},
   "source": [
    "## What is the average number of trips for each day-of-week?\n",
    "Process the data and plot your answer"
   ]
  },
  {
   "cell_type": "code",
   "execution_count": 21,
   "metadata": {},
   "outputs": [
    {
     "name": "stdout",
     "output_type": "stream",
     "text": [
      "<class 'pandas.core.frame.DataFrame'>\n",
      "RangeIndex: 1878098 entries, 0 to 1878097\n",
      "Data columns (total 15 columns):\n",
      " #   Column                   Dtype  \n",
      "---  ------                   -----  \n",
      " 0   tripduration             int64  \n",
      " 1   starttime                object \n",
      " 2   stoptime                 object \n",
      " 3   start station id         int64  \n",
      " 4   start station name       object \n",
      " 5   start station latitude   float64\n",
      " 6   start station longitude  float64\n",
      " 7   end station id           int64  \n",
      " 8   end station name         object \n",
      " 9   end station latitude     float64\n",
      " 10  end station longitude    float64\n",
      " 11  bikeid                   int64  \n",
      " 12  usertype                 object \n",
      " 13  birth year               float64\n",
      " 14  gender                   int64  \n",
      "dtypes: float64(5), int64(5), object(5)\n",
      "memory usage: 214.9+ MB\n"
     ]
    }
   ],
   "source": [
    "df.info()"
   ]
  },
  {
   "cell_type": "code",
   "execution_count": 22,
   "metadata": {},
   "outputs": [],
   "source": [
    "time = ['starttime', 'stoptime']\n",
    "df[time] = df[time].apply(pd.to_datetime, errors='coerce', axis=1)"
   ]
  },
  {
   "cell_type": "code",
   "execution_count": 23,
   "metadata": {},
   "outputs": [
    {
     "name": "stdout",
     "output_type": "stream",
     "text": [
      "<class 'pandas.core.frame.DataFrame'>\n",
      "RangeIndex: 1878098 entries, 0 to 1878097\n",
      "Data columns (total 15 columns):\n",
      " #   Column                   Dtype         \n",
      "---  ------                   -----         \n",
      " 0   tripduration             int64         \n",
      " 1   starttime                datetime64[ns]\n",
      " 2   stoptime                 datetime64[ns]\n",
      " 3   start station id         int64         \n",
      " 4   start station name       object        \n",
      " 5   start station latitude   float64       \n",
      " 6   start station longitude  float64       \n",
      " 7   end station id           int64         \n",
      " 8   end station name         object        \n",
      " 9   end station latitude     float64       \n",
      " 10  end station longitude    float64       \n",
      " 11  bikeid                   int64         \n",
      " 12  usertype                 object        \n",
      " 13  birth year               float64       \n",
      " 14  gender                   int64         \n",
      "dtypes: datetime64[ns](2), float64(5), int64(5), object(3)\n",
      "memory usage: 214.9+ MB\n"
     ]
    }
   ],
   "source": [
    "df.info()"
   ]
  },
  {
   "cell_type": "code",
   "execution_count": 24,
   "metadata": {},
   "outputs": [],
   "source": [
    "df.sort_values(by='starttime', inplace=True, ignore_index=True)"
   ]
  },
  {
   "cell_type": "code",
   "execution_count": 25,
   "metadata": {},
   "outputs": [],
   "source": [
    "df['count'] = 1"
   ]
  },
  {
   "cell_type": "code",
   "execution_count": 26,
   "metadata": {},
   "outputs": [
    {
     "data": {
      "text/html": [
       "<div>\n",
       "<style scoped>\n",
       "    .dataframe tbody tr th:only-of-type {\n",
       "        vertical-align: middle;\n",
       "    }\n",
       "\n",
       "    .dataframe tbody tr th {\n",
       "        vertical-align: top;\n",
       "    }\n",
       "\n",
       "    .dataframe thead th {\n",
       "        text-align: right;\n",
       "    }\n",
       "</style>\n",
       "<table border=\"1\" class=\"dataframe\">\n",
       "  <thead>\n",
       "    <tr style=\"text-align: right;\">\n",
       "      <th></th>\n",
       "      <th>starttime</th>\n",
       "      <th>count</th>\n",
       "    </tr>\n",
       "  </thead>\n",
       "  <tbody>\n",
       "    <tr>\n",
       "      <th>0</th>\n",
       "      <td>2017-09-01</td>\n",
       "      <td>54881</td>\n",
       "    </tr>\n",
       "    <tr>\n",
       "      <th>1</th>\n",
       "      <td>2017-09-02</td>\n",
       "      <td>37812</td>\n",
       "    </tr>\n",
       "    <tr>\n",
       "      <th>2</th>\n",
       "      <td>2017-09-03</td>\n",
       "      <td>30955</td>\n",
       "    </tr>\n",
       "    <tr>\n",
       "      <th>3</th>\n",
       "      <td>2017-09-04</td>\n",
       "      <td>55285</td>\n",
       "    </tr>\n",
       "    <tr>\n",
       "      <th>4</th>\n",
       "      <td>2017-09-05</td>\n",
       "      <td>65445</td>\n",
       "    </tr>\n",
       "    <tr>\n",
       "      <th>5</th>\n",
       "      <td>2017-09-06</td>\n",
       "      <td>42295</td>\n",
       "    </tr>\n",
       "    <tr>\n",
       "      <th>6</th>\n",
       "      <td>2017-09-07</td>\n",
       "      <td>69519</td>\n",
       "    </tr>\n",
       "    <tr>\n",
       "      <th>7</th>\n",
       "      <td>2017-09-08</td>\n",
       "      <td>69574</td>\n",
       "    </tr>\n",
       "    <tr>\n",
       "      <th>8</th>\n",
       "      <td>2017-09-09</td>\n",
       "      <td>60155</td>\n",
       "    </tr>\n",
       "    <tr>\n",
       "      <th>9</th>\n",
       "      <td>2017-09-10</td>\n",
       "      <td>60711</td>\n",
       "    </tr>\n",
       "    <tr>\n",
       "      <th>10</th>\n",
       "      <td>2017-09-11</td>\n",
       "      <td>71917</td>\n",
       "    </tr>\n",
       "    <tr>\n",
       "      <th>11</th>\n",
       "      <td>2017-09-12</td>\n",
       "      <td>74580</td>\n",
       "    </tr>\n",
       "    <tr>\n",
       "      <th>12</th>\n",
       "      <td>2017-09-13</td>\n",
       "      <td>69566</td>\n",
       "    </tr>\n",
       "    <tr>\n",
       "      <th>13</th>\n",
       "      <td>2017-09-14</td>\n",
       "      <td>72071</td>\n",
       "    </tr>\n",
       "    <tr>\n",
       "      <th>14</th>\n",
       "      <td>2017-09-15</td>\n",
       "      <td>72297</td>\n",
       "    </tr>\n",
       "    <tr>\n",
       "      <th>15</th>\n",
       "      <td>2017-09-16</td>\n",
       "      <td>61036</td>\n",
       "    </tr>\n",
       "    <tr>\n",
       "      <th>16</th>\n",
       "      <td>2017-09-17</td>\n",
       "      <td>59967</td>\n",
       "    </tr>\n",
       "    <tr>\n",
       "      <th>17</th>\n",
       "      <td>2017-09-18</td>\n",
       "      <td>64130</td>\n",
       "    </tr>\n",
       "    <tr>\n",
       "      <th>18</th>\n",
       "      <td>2017-09-19</td>\n",
       "      <td>57910</td>\n",
       "    </tr>\n",
       "    <tr>\n",
       "      <th>19</th>\n",
       "      <td>2017-09-20</td>\n",
       "      <td>71150</td>\n",
       "    </tr>\n",
       "    <tr>\n",
       "      <th>20</th>\n",
       "      <td>2017-09-21</td>\n",
       "      <td>67742</td>\n",
       "    </tr>\n",
       "    <tr>\n",
       "      <th>21</th>\n",
       "      <td>2017-09-22</td>\n",
       "      <td>70127</td>\n",
       "    </tr>\n",
       "    <tr>\n",
       "      <th>22</th>\n",
       "      <td>2017-09-23</td>\n",
       "      <td>62687</td>\n",
       "    </tr>\n",
       "    <tr>\n",
       "      <th>23</th>\n",
       "      <td>2017-09-24</td>\n",
       "      <td>57458</td>\n",
       "    </tr>\n",
       "    <tr>\n",
       "      <th>24</th>\n",
       "      <td>2017-09-25</td>\n",
       "      <td>69200</td>\n",
       "    </tr>\n",
       "    <tr>\n",
       "      <th>25</th>\n",
       "      <td>2017-09-26</td>\n",
       "      <td>71518</td>\n",
       "    </tr>\n",
       "    <tr>\n",
       "      <th>26</th>\n",
       "      <td>2017-09-27</td>\n",
       "      <td>69897</td>\n",
       "    </tr>\n",
       "    <tr>\n",
       "      <th>27</th>\n",
       "      <td>2017-09-28</td>\n",
       "      <td>70883</td>\n",
       "    </tr>\n",
       "    <tr>\n",
       "      <th>28</th>\n",
       "      <td>2017-09-29</td>\n",
       "      <td>67177</td>\n",
       "    </tr>\n",
       "    <tr>\n",
       "      <th>29</th>\n",
       "      <td>2017-09-30</td>\n",
       "      <td>50153</td>\n",
       "    </tr>\n",
       "  </tbody>\n",
       "</table>\n",
       "</div>"
      ],
      "text/plain": [
       "    starttime  count\n",
       "0  2017-09-01  54881\n",
       "1  2017-09-02  37812\n",
       "2  2017-09-03  30955\n",
       "3  2017-09-04  55285\n",
       "4  2017-09-05  65445\n",
       "5  2017-09-06  42295\n",
       "6  2017-09-07  69519\n",
       "7  2017-09-08  69574\n",
       "8  2017-09-09  60155\n",
       "9  2017-09-10  60711\n",
       "10 2017-09-11  71917\n",
       "11 2017-09-12  74580\n",
       "12 2017-09-13  69566\n",
       "13 2017-09-14  72071\n",
       "14 2017-09-15  72297\n",
       "15 2017-09-16  61036\n",
       "16 2017-09-17  59967\n",
       "17 2017-09-18  64130\n",
       "18 2017-09-19  57910\n",
       "19 2017-09-20  71150\n",
       "20 2017-09-21  67742\n",
       "21 2017-09-22  70127\n",
       "22 2017-09-23  62687\n",
       "23 2017-09-24  57458\n",
       "24 2017-09-25  69200\n",
       "25 2017-09-26  71518\n",
       "26 2017-09-27  69897\n",
       "27 2017-09-28  70883\n",
       "28 2017-09-29  67177\n",
       "29 2017-09-30  50153"
      ]
     },
     "execution_count": 26,
     "metadata": {},
     "output_type": "execute_result"
    }
   ],
   "source": [
    "perhari = df.resample('D', on='starttime')['count'].sum()\n",
    "df_perhari = pd.DataFrame(perhari)\n",
    "df_perhari.reset_index(inplace=True)\n",
    "df_perhari"
   ]
  },
  {
   "cell_type": "code",
   "execution_count": 27,
   "metadata": {},
   "outputs": [
    {
     "data": {
      "text/html": [
       "<div>\n",
       "<style scoped>\n",
       "    .dataframe tbody tr th:only-of-type {\n",
       "        vertical-align: middle;\n",
       "    }\n",
       "\n",
       "    .dataframe tbody tr th {\n",
       "        vertical-align: top;\n",
       "    }\n",
       "\n",
       "    .dataframe thead th {\n",
       "        text-align: right;\n",
       "    }\n",
       "</style>\n",
       "<table border=\"1\" class=\"dataframe\">\n",
       "  <thead>\n",
       "    <tr style=\"text-align: right;\">\n",
       "      <th></th>\n",
       "      <th>starttime</th>\n",
       "      <th>count</th>\n",
       "    </tr>\n",
       "  </thead>\n",
       "  <tbody>\n",
       "    <tr>\n",
       "      <th>0</th>\n",
       "      <td>2017-09-03</td>\n",
       "      <td>41216.000000</td>\n",
       "    </tr>\n",
       "    <tr>\n",
       "      <th>1</th>\n",
       "      <td>2017-09-10</td>\n",
       "      <td>60426.285714</td>\n",
       "    </tr>\n",
       "    <tr>\n",
       "      <th>2</th>\n",
       "      <td>2017-09-17</td>\n",
       "      <td>68776.285714</td>\n",
       "    </tr>\n",
       "    <tr>\n",
       "      <th>3</th>\n",
       "      <td>2017-09-24</td>\n",
       "      <td>64457.714286</td>\n",
       "    </tr>\n",
       "    <tr>\n",
       "      <th>4</th>\n",
       "      <td>2017-10-01</td>\n",
       "      <td>66471.333333</td>\n",
       "    </tr>\n",
       "  </tbody>\n",
       "</table>\n",
       "</div>"
      ],
      "text/plain": [
       "   starttime         count\n",
       "0 2017-09-03  41216.000000\n",
       "1 2017-09-10  60426.285714\n",
       "2 2017-09-17  68776.285714\n",
       "3 2017-09-24  64457.714286\n",
       "4 2017-10-01  66471.333333"
      ]
     },
     "execution_count": 27,
     "metadata": {},
     "output_type": "execute_result"
    }
   ],
   "source": [
    "perhari_seminggu = df_perhari.resample('W', on='starttime')['count'].mean()\n",
    "df_perhari_seminggu = pd.DataFrame(perhari_seminggu)\n",
    "df_perhari_seminggu.reset_index(inplace=True)\n",
    "df_perhari_seminggu"
   ]
  },
  {
   "cell_type": "code",
   "execution_count": 28,
   "metadata": {},
   "outputs": [
    {
     "data": {
      "text/plain": [
       "60269.52380952381"
      ]
     },
     "execution_count": 28,
     "metadata": {},
     "output_type": "execute_result"
    }
   ],
   "source": [
    "df_perhari_seminggu['count'].mean()"
   ]
  },
  {
   "cell_type": "markdown",
   "metadata": {},
   "source": [
    "> Jadi jumlah rata-rata perjalanan untuk setiap hari dalam seminggu adalah 60.269. Jumlah tersebut merupakan rata-rata selama 4 minggu dari keseluruhan data."
   ]
  },
  {
   "cell_type": "code",
   "execution_count": 29,
   "metadata": {},
   "outputs": [
    {
     "data": {
      "text/plain": [
       "[Text(0, 0, 'Friday, 01 September'),\n",
       " Text(1, 0, 'Saturday, 02 September'),\n",
       " Text(2, 0, 'Sunday, 03 September'),\n",
       " Text(3, 0, 'Monday, 04 September'),\n",
       " Text(4, 0, 'Tuesday, 05 September'),\n",
       " Text(5, 0, 'Wednesday, 06 September'),\n",
       " Text(6, 0, 'Thursday, 07 September'),\n",
       " Text(7, 0, 'Friday, 08 September'),\n",
       " Text(8, 0, 'Saturday, 09 September'),\n",
       " Text(9, 0, 'Sunday, 10 September'),\n",
       " Text(10, 0, 'Monday, 11 September'),\n",
       " Text(11, 0, 'Tuesday, 12 September'),\n",
       " Text(12, 0, 'Wednesday, 13 September'),\n",
       " Text(13, 0, 'Thursday, 14 September'),\n",
       " Text(14, 0, 'Friday, 15 September'),\n",
       " Text(15, 0, 'Saturday, 16 September'),\n",
       " Text(16, 0, 'Sunday, 17 September'),\n",
       " Text(17, 0, 'Monday, 18 September'),\n",
       " Text(18, 0, 'Tuesday, 19 September'),\n",
       " Text(19, 0, 'Wednesday, 20 September'),\n",
       " Text(20, 0, 'Thursday, 21 September'),\n",
       " Text(21, 0, 'Friday, 22 September'),\n",
       " Text(22, 0, 'Saturday, 23 September'),\n",
       " Text(23, 0, 'Sunday, 24 September'),\n",
       " Text(24, 0, 'Monday, 25 September'),\n",
       " Text(25, 0, 'Tuesday, 26 September'),\n",
       " Text(26, 0, 'Wednesday, 27 September'),\n",
       " Text(27, 0, 'Thursday, 28 September'),\n",
       " Text(28, 0, 'Friday, 29 September'),\n",
       " Text(29, 0, 'Saturday, 30 September')]"
      ]
     },
     "execution_count": 29,
     "metadata": {},
     "output_type": "execute_result"
    },
    {
     "data": {
      "image/png": "[encoded data removed]",
      "text/plain": [
       "<Figure size 842.4x595.44 with 1 Axes>"
      ]
     },
     "metadata": {},
     "output_type": "display_data"
    }
   ],
   "source": [
    "graf = sns.barplot(x=\"starttime\", y=\"count\", palette='Set1', data=df_perhari.head(30))\n",
    "graf.set_xticklabels(df_perhari['starttime'].head(30).dt.strftime('%A, %d %B'), rotation=45, horizontalalignment='right')"
   ]
  },
  {
   "cell_type": "markdown",
   "metadata": {},
   "source": [
    "> Dari grafik diatas kita tahu bahwa pola orang orang US mengikuti program ini rata rata di hari rabu, kamis, dan jumat. Sedangkan dihari weekend selalu mengalami penurunan dibanding dengan weekdays. Sehingga dapat disimpulkan bahwa orang US lebih tertarik mengikuti program ini di weekdays khususnya rabu, kamis,dan jumat."
   ]
  },
  {
   "cell_type": "markdown",
   "metadata": {},
   "source": [
    "## What is the average number of trips by hour of day?"
   ]
  },
  {
   "cell_type": "code",
   "execution_count": 30,
   "metadata": {},
   "outputs": [
    {
     "data": {
      "text/html": [
       "<div>\n",
       "<style scoped>\n",
       "    .dataframe tbody tr th:only-of-type {\n",
       "        vertical-align: middle;\n",
       "    }\n",
       "\n",
       "    .dataframe tbody tr th {\n",
       "        vertical-align: top;\n",
       "    }\n",
       "\n",
       "    .dataframe thead th {\n",
       "        text-align: right;\n",
       "    }\n",
       "</style>\n",
       "<table border=\"1\" class=\"dataframe\">\n",
       "  <thead>\n",
       "    <tr style=\"text-align: right;\">\n",
       "      <th></th>\n",
       "      <th>starttime</th>\n",
       "      <th>count</th>\n",
       "    </tr>\n",
       "  </thead>\n",
       "  <tbody>\n",
       "    <tr>\n",
       "      <th>0</th>\n",
       "      <td>2017-09-01 00:00:00</td>\n",
       "      <td>535</td>\n",
       "    </tr>\n",
       "    <tr>\n",
       "      <th>1</th>\n",
       "      <td>2017-09-01 01:00:00</td>\n",
       "      <td>292</td>\n",
       "    </tr>\n",
       "    <tr>\n",
       "      <th>2</th>\n",
       "      <td>2017-09-01 02:00:00</td>\n",
       "      <td>125</td>\n",
       "    </tr>\n",
       "    <tr>\n",
       "      <th>3</th>\n",
       "      <td>2017-09-01 03:00:00</td>\n",
       "      <td>82</td>\n",
       "    </tr>\n",
       "    <tr>\n",
       "      <th>4</th>\n",
       "      <td>2017-09-01 04:00:00</td>\n",
       "      <td>87</td>\n",
       "    </tr>\n",
       "    <tr>\n",
       "      <th>...</th>\n",
       "      <td>...</td>\n",
       "      <td>...</td>\n",
       "    </tr>\n",
       "    <tr>\n",
       "      <th>715</th>\n",
       "      <td>2017-09-30 19:00:00</td>\n",
       "      <td>2501</td>\n",
       "    </tr>\n",
       "    <tr>\n",
       "      <th>716</th>\n",
       "      <td>2017-09-30 20:00:00</td>\n",
       "      <td>1770</td>\n",
       "    </tr>\n",
       "    <tr>\n",
       "      <th>717</th>\n",
       "      <td>2017-09-30 21:00:00</td>\n",
       "      <td>1456</td>\n",
       "    </tr>\n",
       "    <tr>\n",
       "      <th>718</th>\n",
       "      <td>2017-09-30 22:00:00</td>\n",
       "      <td>1178</td>\n",
       "    </tr>\n",
       "    <tr>\n",
       "      <th>719</th>\n",
       "      <td>2017-09-30 23:00:00</td>\n",
       "      <td>975</td>\n",
       "    </tr>\n",
       "  </tbody>\n",
       "</table>\n",
       "<p>720 rows × 2 columns</p>\n",
       "</div>"
      ],
      "text/plain": [
       "              starttime  count\n",
       "0   2017-09-01 00:00:00    535\n",
       "1   2017-09-01 01:00:00    292\n",
       "2   2017-09-01 02:00:00    125\n",
       "3   2017-09-01 03:00:00     82\n",
       "4   2017-09-01 04:00:00     87\n",
       "..                  ...    ...\n",
       "715 2017-09-30 19:00:00   2501\n",
       "716 2017-09-30 20:00:00   1770\n",
       "717 2017-09-30 21:00:00   1456\n",
       "718 2017-09-30 22:00:00   1178\n",
       "719 2017-09-30 23:00:00    975\n",
       "\n",
       "[720 rows x 2 columns]"
      ]
     },
     "execution_count": 30,
     "metadata": {},
     "output_type": "execute_result"
    }
   ],
   "source": [
    "perjam = df.resample('H', on='starttime')['count'].sum()\n",
    "df_perjam = pd.DataFrame(perjam)\n",
    "df_perjam.reset_index(inplace=True)\n",
    "df_perjam"
   ]
  },
  {
   "cell_type": "code",
   "execution_count": 31,
   "metadata": {},
   "outputs": [
    {
     "data": {
      "text/html": [
       "<div>\n",
       "<style scoped>\n",
       "    .dataframe tbody tr th:only-of-type {\n",
       "        vertical-align: middle;\n",
       "    }\n",
       "\n",
       "    .dataframe tbody tr th {\n",
       "        vertical-align: top;\n",
       "    }\n",
       "\n",
       "    .dataframe thead th {\n",
       "        text-align: right;\n",
       "    }\n",
       "</style>\n",
       "<table border=\"1\" class=\"dataframe\">\n",
       "  <thead>\n",
       "    <tr style=\"text-align: right;\">\n",
       "      <th></th>\n",
       "      <th>starttime</th>\n",
       "      <th>count</th>\n",
       "    </tr>\n",
       "  </thead>\n",
       "  <tbody>\n",
       "    <tr>\n",
       "      <th>0</th>\n",
       "      <td>2017-09-01</td>\n",
       "      <td>2286.708333</td>\n",
       "    </tr>\n",
       "    <tr>\n",
       "      <th>1</th>\n",
       "      <td>2017-09-02</td>\n",
       "      <td>1575.500000</td>\n",
       "    </tr>\n",
       "    <tr>\n",
       "      <th>2</th>\n",
       "      <td>2017-09-03</td>\n",
       "      <td>1289.791667</td>\n",
       "    </tr>\n",
       "    <tr>\n",
       "      <th>3</th>\n",
       "      <td>2017-09-04</td>\n",
       "      <td>2303.541667</td>\n",
       "    </tr>\n",
       "    <tr>\n",
       "      <th>4</th>\n",
       "      <td>2017-09-05</td>\n",
       "      <td>2726.875000</td>\n",
       "    </tr>\n",
       "    <tr>\n",
       "      <th>5</th>\n",
       "      <td>2017-09-06</td>\n",
       "      <td>1762.291667</td>\n",
       "    </tr>\n",
       "    <tr>\n",
       "      <th>6</th>\n",
       "      <td>2017-09-07</td>\n",
       "      <td>2896.625000</td>\n",
       "    </tr>\n",
       "    <tr>\n",
       "      <th>7</th>\n",
       "      <td>2017-09-08</td>\n",
       "      <td>2898.916667</td>\n",
       "    </tr>\n",
       "    <tr>\n",
       "      <th>8</th>\n",
       "      <td>2017-09-09</td>\n",
       "      <td>2506.458333</td>\n",
       "    </tr>\n",
       "    <tr>\n",
       "      <th>9</th>\n",
       "      <td>2017-09-10</td>\n",
       "      <td>2529.625000</td>\n",
       "    </tr>\n",
       "    <tr>\n",
       "      <th>10</th>\n",
       "      <td>2017-09-11</td>\n",
       "      <td>2996.541667</td>\n",
       "    </tr>\n",
       "    <tr>\n",
       "      <th>11</th>\n",
       "      <td>2017-09-12</td>\n",
       "      <td>3107.500000</td>\n",
       "    </tr>\n",
       "    <tr>\n",
       "      <th>12</th>\n",
       "      <td>2017-09-13</td>\n",
       "      <td>2898.583333</td>\n",
       "    </tr>\n",
       "    <tr>\n",
       "      <th>13</th>\n",
       "      <td>2017-09-14</td>\n",
       "      <td>3002.958333</td>\n",
       "    </tr>\n",
       "    <tr>\n",
       "      <th>14</th>\n",
       "      <td>2017-09-15</td>\n",
       "      <td>3012.375000</td>\n",
       "    </tr>\n",
       "    <tr>\n",
       "      <th>15</th>\n",
       "      <td>2017-09-16</td>\n",
       "      <td>2543.166667</td>\n",
       "    </tr>\n",
       "    <tr>\n",
       "      <th>16</th>\n",
       "      <td>2017-09-17</td>\n",
       "      <td>2498.625000</td>\n",
       "    </tr>\n",
       "    <tr>\n",
       "      <th>17</th>\n",
       "      <td>2017-09-18</td>\n",
       "      <td>2672.083333</td>\n",
       "    </tr>\n",
       "    <tr>\n",
       "      <th>18</th>\n",
       "      <td>2017-09-19</td>\n",
       "      <td>2412.916667</td>\n",
       "    </tr>\n",
       "    <tr>\n",
       "      <th>19</th>\n",
       "      <td>2017-09-20</td>\n",
       "      <td>2964.583333</td>\n",
       "    </tr>\n",
       "    <tr>\n",
       "      <th>20</th>\n",
       "      <td>2017-09-21</td>\n",
       "      <td>2822.583333</td>\n",
       "    </tr>\n",
       "    <tr>\n",
       "      <th>21</th>\n",
       "      <td>2017-09-22</td>\n",
       "      <td>2921.958333</td>\n",
       "    </tr>\n",
       "    <tr>\n",
       "      <th>22</th>\n",
       "      <td>2017-09-23</td>\n",
       "      <td>2611.958333</td>\n",
       "    </tr>\n",
       "    <tr>\n",
       "      <th>23</th>\n",
       "      <td>2017-09-24</td>\n",
       "      <td>2394.083333</td>\n",
       "    </tr>\n",
       "    <tr>\n",
       "      <th>24</th>\n",
       "      <td>2017-09-25</td>\n",
       "      <td>2883.333333</td>\n",
       "    </tr>\n",
       "    <tr>\n",
       "      <th>25</th>\n",
       "      <td>2017-09-26</td>\n",
       "      <td>2979.916667</td>\n",
       "    </tr>\n",
       "    <tr>\n",
       "      <th>26</th>\n",
       "      <td>2017-09-27</td>\n",
       "      <td>2912.375000</td>\n",
       "    </tr>\n",
       "    <tr>\n",
       "      <th>27</th>\n",
       "      <td>2017-09-28</td>\n",
       "      <td>2953.458333</td>\n",
       "    </tr>\n",
       "    <tr>\n",
       "      <th>28</th>\n",
       "      <td>2017-09-29</td>\n",
       "      <td>2799.041667</td>\n",
       "    </tr>\n",
       "    <tr>\n",
       "      <th>29</th>\n",
       "      <td>2017-09-30</td>\n",
       "      <td>2089.708333</td>\n",
       "    </tr>\n",
       "  </tbody>\n",
       "</table>\n",
       "</div>"
      ],
      "text/plain": [
       "    starttime        count\n",
       "0  2017-09-01  2286.708333\n",
       "1  2017-09-02  1575.500000\n",
       "2  2017-09-03  1289.791667\n",
       "3  2017-09-04  2303.541667\n",
       "4  2017-09-05  2726.875000\n",
       "5  2017-09-06  1762.291667\n",
       "6  2017-09-07  2896.625000\n",
       "7  2017-09-08  2898.916667\n",
       "8  2017-09-09  2506.458333\n",
       "9  2017-09-10  2529.625000\n",
       "10 2017-09-11  2996.541667\n",
       "11 2017-09-12  3107.500000\n",
       "12 2017-09-13  2898.583333\n",
       "13 2017-09-14  3002.958333\n",
       "14 2017-09-15  3012.375000\n",
       "15 2017-09-16  2543.166667\n",
       "16 2017-09-17  2498.625000\n",
       "17 2017-09-18  2672.083333\n",
       "18 2017-09-19  2412.916667\n",
       "19 2017-09-20  2964.583333\n",
       "20 2017-09-21  2822.583333\n",
       "21 2017-09-22  2921.958333\n",
       "22 2017-09-23  2611.958333\n",
       "23 2017-09-24  2394.083333\n",
       "24 2017-09-25  2883.333333\n",
       "25 2017-09-26  2979.916667\n",
       "26 2017-09-27  2912.375000\n",
       "27 2017-09-28  2953.458333\n",
       "28 2017-09-29  2799.041667\n",
       "29 2017-09-30  2089.708333"
      ]
     },
     "execution_count": 31,
     "metadata": {},
     "output_type": "execute_result"
    }
   ],
   "source": [
    "perjam_sehari = df_perjam.resample('D', on='starttime')['count'].mean()\n",
    "df_perjam_sehari = pd.DataFrame(perjam_sehari)\n",
    "df_perjam_sehari.reset_index(inplace=True)\n",
    "df_perjam_sehari"
   ]
  },
  {
   "cell_type": "code",
   "execution_count": 32,
   "metadata": {},
   "outputs": [
    {
     "data": {
      "text/plain": [
       "2608.4694444444444"
      ]
     },
     "execution_count": 32,
     "metadata": {},
     "output_type": "execute_result"
    }
   ],
   "source": [
    "df_perjam_sehari['count'].mean()"
   ]
  },
  {
   "cell_type": "markdown",
   "metadata": {},
   "source": [
    "> Jadi rata-rata jumlah perjalanan per jam dalam sehari adalah 2608. Jumlah tersebut merupakan rata-rata selama 30 hari dari keseluruhan data."
   ]
  },
  {
   "cell_type": "code",
   "execution_count": 33,
   "metadata": {},
   "outputs": [
    {
     "data": {
      "text/plain": [
       "<AxesSubplot:xlabel='starttime', ylabel='count'>"
      ]
     },
     "execution_count": 33,
     "metadata": {},
     "output_type": "execute_result"
    },
    {
     "data": {
      "image/png": "[encoded data removed]",
      "text/plain": [
       "<Figure size 842.4x595.44 with 1 Axes>"
      ]
     },
     "metadata": {},
     "output_type": "display_data"
    }
   ],
   "source": [
    "sns.lineplot(x=df_perjam['starttime'].head(100), y=df_perjam['count'].head(100))"
   ]
  },
  {
   "cell_type": "markdown",
   "metadata": {},
   "source": [
    "> Terlihat dari grafik diatas bahwa trafic orang US yang bersepeda di program City Bike mengalami peningkatan di jam 12 siang. dimana rata rata pada jam 12 siang pengguna sepeda berada pada grafik tertinggi. Sehingga dapat disimpulkan bahwa orang US yang mengikuti program ini rata-rata mengikutinya di jam 12 hingga 16."
   ]
  },
  {
   "cell_type": "markdown",
   "metadata": {},
   "source": [
    "## What is the correlation between age and trip duration?"
   ]
  },
  {
   "cell_type": "code",
   "execution_count": 34,
   "metadata": {},
   "outputs": [],
   "source": [
    "df['Age']=df['birth year'].apply(lambda x:2021-x)"
   ]
  },
  {
   "cell_type": "code",
   "execution_count": 35,
   "metadata": {},
   "outputs": [
    {
     "data": {
      "text/html": [
       "<div>\n",
       "<style scoped>\n",
       "    .dataframe tbody tr th:only-of-type {\n",
       "        vertical-align: middle;\n",
       "    }\n",
       "\n",
       "    .dataframe tbody tr th {\n",
       "        vertical-align: top;\n",
       "    }\n",
       "\n",
       "    .dataframe thead th {\n",
       "        text-align: right;\n",
       "    }\n",
       "</style>\n",
       "<table border=\"1\" class=\"dataframe\">\n",
       "  <thead>\n",
       "    <tr style=\"text-align: right;\">\n",
       "      <th></th>\n",
       "      <th>Age</th>\n",
       "      <th>tripduration</th>\n",
       "    </tr>\n",
       "  </thead>\n",
       "  <tbody>\n",
       "    <tr>\n",
       "      <th>Age</th>\n",
       "      <td>1.000000</td>\n",
       "      <td>-0.004168</td>\n",
       "    </tr>\n",
       "    <tr>\n",
       "      <th>tripduration</th>\n",
       "      <td>-0.004168</td>\n",
       "      <td>1.000000</td>\n",
       "    </tr>\n",
       "  </tbody>\n",
       "</table>\n",
       "</div>"
      ],
      "text/plain": [
       "                   Age  tripduration\n",
       "Age           1.000000     -0.004168\n",
       "tripduration -0.004168      1.000000"
      ]
     },
     "execution_count": 35,
     "metadata": {},
     "output_type": "execute_result"
    }
   ],
   "source": [
    "df[['Age', 'tripduration']].corr()"
   ]
  },
  {
   "cell_type": "code",
   "execution_count": 36,
   "metadata": {},
   "outputs": [
    {
     "data": {
      "text/plain": [
       "<AxesSubplot:xlabel='Age', ylabel='tripduration'>"
      ]
     },
     "execution_count": 36,
     "metadata": {},
     "output_type": "execute_result"
    },
    {
     "data": {
      "image/png": "[encoded data removed]",
      "text/plain": [
       "<Figure size 842.4x595.44 with 1 Axes>"
      ]
     },
     "metadata": {},
     "output_type": "display_data"
    }
   ],
   "source": [
    "sns.regplot(data=df.sample(300, random_state=1), \n",
    "            x=\"Age\", y=\"tripduration\",\n",
    "            line_kws={\"color\": \"red\"})"
   ]
  },
  {
   "cell_type": "markdown",
   "metadata": {},
   "source": [
    "> Dapat dilihat dan disimpulkan bahwa korelasi dari Age dan tripduration sangat kecil atau hampir mendekati 0. Hal tersebut menunjukkan bahwa kedua variable tersebut tidak memiliki hubungan yang saling terkait dan tidak saling mempengaruhi.\n",
    "\n",
    "> Walaupun korelasi sangat kecil tapi nilai korelasi menunjukkan hasil negatif dimana korelasi negatif menunjukkan jika semakin tinggi umur akan berbanding terbalik dengan tripdurasinya yaitu akan semakin kecil. Sehingga hal tersebut sangat logis jika semakin tua maka durasi bersepedanya semakin kecil."
   ]
  },
  {
   "cell_type": "markdown",
   "metadata": {},
   "source": [
    "## What is the average number of daily trips?"
   ]
  },
  {
   "cell_type": "code",
   "execution_count": 37,
   "metadata": {},
   "outputs": [
    {
     "data": {
      "text/html": [
       "<div>\n",
       "<style scoped>\n",
       "    .dataframe tbody tr th:only-of-type {\n",
       "        vertical-align: middle;\n",
       "    }\n",
       "\n",
       "    .dataframe tbody tr th {\n",
       "        vertical-align: top;\n",
       "    }\n",
       "\n",
       "    .dataframe thead th {\n",
       "        text-align: right;\n",
       "    }\n",
       "</style>\n",
       "<table border=\"1\" class=\"dataframe\">\n",
       "  <thead>\n",
       "    <tr style=\"text-align: right;\">\n",
       "      <th></th>\n",
       "      <th>starttime</th>\n",
       "      <th>count</th>\n",
       "    </tr>\n",
       "  </thead>\n",
       "  <tbody>\n",
       "    <tr>\n",
       "      <th>0</th>\n",
       "      <td>2017-09-01</td>\n",
       "      <td>54881</td>\n",
       "    </tr>\n",
       "    <tr>\n",
       "      <th>1</th>\n",
       "      <td>2017-09-02</td>\n",
       "      <td>37812</td>\n",
       "    </tr>\n",
       "    <tr>\n",
       "      <th>2</th>\n",
       "      <td>2017-09-03</td>\n",
       "      <td>30955</td>\n",
       "    </tr>\n",
       "    <tr>\n",
       "      <th>3</th>\n",
       "      <td>2017-09-04</td>\n",
       "      <td>55285</td>\n",
       "    </tr>\n",
       "    <tr>\n",
       "      <th>4</th>\n",
       "      <td>2017-09-05</td>\n",
       "      <td>65445</td>\n",
       "    </tr>\n",
       "    <tr>\n",
       "      <th>5</th>\n",
       "      <td>2017-09-06</td>\n",
       "      <td>42295</td>\n",
       "    </tr>\n",
       "    <tr>\n",
       "      <th>6</th>\n",
       "      <td>2017-09-07</td>\n",
       "      <td>69519</td>\n",
       "    </tr>\n",
       "    <tr>\n",
       "      <th>7</th>\n",
       "      <td>2017-09-08</td>\n",
       "      <td>69574</td>\n",
       "    </tr>\n",
       "    <tr>\n",
       "      <th>8</th>\n",
       "      <td>2017-09-09</td>\n",
       "      <td>60155</td>\n",
       "    </tr>\n",
       "    <tr>\n",
       "      <th>9</th>\n",
       "      <td>2017-09-10</td>\n",
       "      <td>60711</td>\n",
       "    </tr>\n",
       "    <tr>\n",
       "      <th>10</th>\n",
       "      <td>2017-09-11</td>\n",
       "      <td>71917</td>\n",
       "    </tr>\n",
       "    <tr>\n",
       "      <th>11</th>\n",
       "      <td>2017-09-12</td>\n",
       "      <td>74580</td>\n",
       "    </tr>\n",
       "    <tr>\n",
       "      <th>12</th>\n",
       "      <td>2017-09-13</td>\n",
       "      <td>69566</td>\n",
       "    </tr>\n",
       "    <tr>\n",
       "      <th>13</th>\n",
       "      <td>2017-09-14</td>\n",
       "      <td>72071</td>\n",
       "    </tr>\n",
       "  </tbody>\n",
       "</table>\n",
       "</div>"
      ],
      "text/plain": [
       "    starttime  count\n",
       "0  2017-09-01  54881\n",
       "1  2017-09-02  37812\n",
       "2  2017-09-03  30955\n",
       "3  2017-09-04  55285\n",
       "4  2017-09-05  65445\n",
       "5  2017-09-06  42295\n",
       "6  2017-09-07  69519\n",
       "7  2017-09-08  69574\n",
       "8  2017-09-09  60155\n",
       "9  2017-09-10  60711\n",
       "10 2017-09-11  71917\n",
       "11 2017-09-12  74580\n",
       "12 2017-09-13  69566\n",
       "13 2017-09-14  72071"
      ]
     },
     "execution_count": 37,
     "metadata": {},
     "output_type": "execute_result"
    }
   ],
   "source": [
    "df_perhari.head(14)"
   ]
  },
  {
   "cell_type": "code",
   "execution_count": 38,
   "metadata": {},
   "outputs": [
    {
     "data": {
      "text/plain": [
       "62603.26666666667"
      ]
     },
     "execution_count": 38,
     "metadata": {},
     "output_type": "execute_result"
    }
   ],
   "source": [
    "df_perhari['count'].mean()"
   ]
  },
  {
   "cell_type": "markdown",
   "metadata": {},
   "source": [
    "> Rata-rata jumlah orang yang mengikuti program city bike adalah sebanyak 62.603 perharinya. Jumlah tersebut merupakan rata-rata harian dalam sebulan atau keseluruhan data."
   ]
  },
  {
   "cell_type": "markdown",
   "metadata": {},
   "source": [
    "## Come up with a question on the Citibike data usage and formulate your hypothesis"
   ]
  },
  {
   "cell_type": "markdown",
   "metadata": {},
   "source": [
    "Example: \n",
    "\n",
    "Women are less likely than men to choose biking for commuting.\n",
    "\n",
    "Null Hypothesis: \n",
    "\n",
    "The proportion of men biking on weekends is the same or higher than the proportion of women biking on weekends\n",
    "\n"
   ]
  },
  {
   "cell_type": "markdown",
   "metadata": {},
   "source": [
    "### Hypothesis\n",
    "\n",
    "- Apakah dalam program ini orang yang mengikutinya kebanyakan wanita atau pria\n",
    "- Apakah ada pengaruh gender terhadap durasi bersepeda\n",
    "- Apakah rata-rata orang yang berumur tua bergender pria atau wanita"
   ]
  },
  {
   "cell_type": "markdown",
   "metadata": {},
   "source": [
    "## Work with your dataset and show your findings to help answer your question"
   ]
  },
  {
   "cell_type": "markdown",
   "metadata": {},
   "source": [
    "Kita Asumsikan bahwa orang yang bergender pria memiliki value 1 sedangkan untuk gender wanita memiliki value 2, dan anggap bahwa value 0 adalah gender yang tidak diketahui."
   ]
  },
  {
   "cell_type": "markdown",
   "metadata": {},
   "source": [
    "Kita Asumsikan bahwa orang yang berumur tua memiliki umur lebih dari 40, dan untuk umur dibawah itu dikategorikan sebagai umur muda."
   ]
  },
  {
   "cell_type": "code",
   "execution_count": 39,
   "metadata": {},
   "outputs": [
    {
     "data": {
      "text/html": [
       "<div>\n",
       "<style scoped>\n",
       "    .dataframe tbody tr th:only-of-type {\n",
       "        vertical-align: middle;\n",
       "    }\n",
       "\n",
       "    .dataframe tbody tr th {\n",
       "        vertical-align: top;\n",
       "    }\n",
       "\n",
       "    .dataframe thead th {\n",
       "        text-align: right;\n",
       "    }\n",
       "</style>\n",
       "<table border=\"1\" class=\"dataframe\">\n",
       "  <thead>\n",
       "    <tr style=\"text-align: right;\">\n",
       "      <th></th>\n",
       "      <th>tripduration</th>\n",
       "      <th>starttime</th>\n",
       "      <th>stoptime</th>\n",
       "      <th>start station id</th>\n",
       "      <th>start station name</th>\n",
       "      <th>start station latitude</th>\n",
       "      <th>start station longitude</th>\n",
       "      <th>end station id</th>\n",
       "      <th>end station name</th>\n",
       "      <th>end station latitude</th>\n",
       "      <th>end station longitude</th>\n",
       "      <th>bikeid</th>\n",
       "      <th>usertype</th>\n",
       "      <th>birth year</th>\n",
       "      <th>gender</th>\n",
       "      <th>count</th>\n",
       "      <th>Age</th>\n",
       "    </tr>\n",
       "  </thead>\n",
       "  <tbody>\n",
       "    <tr>\n",
       "      <th>172216</th>\n",
       "      <td>905</td>\n",
       "      <td>2017-09-04 19:42:34</td>\n",
       "      <td>2017-09-04 19:57:39</td>\n",
       "      <td>3263</td>\n",
       "      <td>Cooper Square &amp; E 7 St</td>\n",
       "      <td>40.729236</td>\n",
       "      <td>-73.990868</td>\n",
       "      <td>528</td>\n",
       "      <td>2 Ave &amp; E 31 St</td>\n",
       "      <td>40.742909</td>\n",
       "      <td>-73.977061</td>\n",
       "      <td>30910</td>\n",
       "      <td>Subscriber</td>\n",
       "      <td>1949.0</td>\n",
       "      <td>1</td>\n",
       "      <td>1</td>\n",
       "      <td>72.0</td>\n",
       "    </tr>\n",
       "    <tr>\n",
       "      <th>1730949</th>\n",
       "      <td>1390</td>\n",
       "      <td>2017-09-28 16:36:19</td>\n",
       "      <td>2017-09-28 16:59:30</td>\n",
       "      <td>3355</td>\n",
       "      <td>E 66 St &amp; Madison Ave</td>\n",
       "      <td>40.768009</td>\n",
       "      <td>-73.968453</td>\n",
       "      <td>212</td>\n",
       "      <td>W 16 St &amp; The High Line</td>\n",
       "      <td>40.743349</td>\n",
       "      <td>-74.006818</td>\n",
       "      <td>21108</td>\n",
       "      <td>Subscriber</td>\n",
       "      <td>1952.0</td>\n",
       "      <td>1</td>\n",
       "      <td>1</td>\n",
       "      <td>69.0</td>\n",
       "    </tr>\n",
       "    <tr>\n",
       "      <th>1192461</th>\n",
       "      <td>1952</td>\n",
       "      <td>2017-09-20 16:53:30</td>\n",
       "      <td>2017-09-20 17:26:03</td>\n",
       "      <td>2008</td>\n",
       "      <td>Little West St &amp; 1 Pl</td>\n",
       "      <td>40.705693</td>\n",
       "      <td>-74.016777</td>\n",
       "      <td>458</td>\n",
       "      <td>11 Ave &amp; W 27 St</td>\n",
       "      <td>40.751396</td>\n",
       "      <td>-74.005226</td>\n",
       "      <td>26874</td>\n",
       "      <td>Customer</td>\n",
       "      <td>1973.0</td>\n",
       "      <td>1</td>\n",
       "      <td>1</td>\n",
       "      <td>48.0</td>\n",
       "    </tr>\n",
       "    <tr>\n",
       "      <th>81086</th>\n",
       "      <td>714</td>\n",
       "      <td>2017-09-02 15:53:27</td>\n",
       "      <td>2017-09-02 16:05:21</td>\n",
       "      <td>3282</td>\n",
       "      <td>5 Ave &amp; E 88 St</td>\n",
       "      <td>40.783070</td>\n",
       "      <td>-73.959390</td>\n",
       "      <td>457</td>\n",
       "      <td>Broadway &amp; W 58 St</td>\n",
       "      <td>40.766953</td>\n",
       "      <td>-73.981693</td>\n",
       "      <td>21264</td>\n",
       "      <td>Subscriber</td>\n",
       "      <td>1991.0</td>\n",
       "      <td>2</td>\n",
       "      <td>1</td>\n",
       "      <td>30.0</td>\n",
       "    </tr>\n",
       "    <tr>\n",
       "      <th>103507</th>\n",
       "      <td>499</td>\n",
       "      <td>2017-09-03 15:18:40</td>\n",
       "      <td>2017-09-03 15:27:00</td>\n",
       "      <td>388</td>\n",
       "      <td>W 26 St &amp; 10 Ave</td>\n",
       "      <td>40.749718</td>\n",
       "      <td>-74.002950</td>\n",
       "      <td>345</td>\n",
       "      <td>W 13 St &amp; 6 Ave</td>\n",
       "      <td>40.736494</td>\n",
       "      <td>-73.997044</td>\n",
       "      <td>28361</td>\n",
       "      <td>Subscriber</td>\n",
       "      <td>1986.0</td>\n",
       "      <td>2</td>\n",
       "      <td>1</td>\n",
       "      <td>35.0</td>\n",
       "    </tr>\n",
       "    <tr>\n",
       "      <th>1253445</th>\n",
       "      <td>774</td>\n",
       "      <td>2017-09-21 14:46:45</td>\n",
       "      <td>2017-09-21 14:59:40</td>\n",
       "      <td>490</td>\n",
       "      <td>8 Ave &amp; W 33 St</td>\n",
       "      <td>40.751551</td>\n",
       "      <td>-73.993934</td>\n",
       "      <td>383</td>\n",
       "      <td>Greenwich Ave &amp; Charles St</td>\n",
       "      <td>40.735238</td>\n",
       "      <td>-74.000271</td>\n",
       "      <td>30789</td>\n",
       "      <td>Subscriber</td>\n",
       "      <td>1978.0</td>\n",
       "      <td>1</td>\n",
       "      <td>1</td>\n",
       "      <td>43.0</td>\n",
       "    </tr>\n",
       "    <tr>\n",
       "      <th>1692667</th>\n",
       "      <td>329</td>\n",
       "      <td>2017-09-28 06:47:49</td>\n",
       "      <td>2017-09-28 06:53:18</td>\n",
       "      <td>410</td>\n",
       "      <td>Suffolk St &amp; Stanton St</td>\n",
       "      <td>40.720664</td>\n",
       "      <td>-73.985180</td>\n",
       "      <td>265</td>\n",
       "      <td>Stanton St &amp; Chrystie St</td>\n",
       "      <td>40.722293</td>\n",
       "      <td>-73.991475</td>\n",
       "      <td>18264</td>\n",
       "      <td>Subscriber</td>\n",
       "      <td>1985.0</td>\n",
       "      <td>1</td>\n",
       "      <td>1</td>\n",
       "      <td>36.0</td>\n",
       "    </tr>\n",
       "    <tr>\n",
       "      <th>1543994</th>\n",
       "      <td>1894</td>\n",
       "      <td>2017-09-25 20:58:51</td>\n",
       "      <td>2017-09-25 21:30:25</td>\n",
       "      <td>168</td>\n",
       "      <td>W 18 St &amp; 6 Ave</td>\n",
       "      <td>40.739713</td>\n",
       "      <td>-73.994564</td>\n",
       "      <td>297</td>\n",
       "      <td>E 15 St &amp; 3 Ave</td>\n",
       "      <td>40.734232</td>\n",
       "      <td>-73.986923</td>\n",
       "      <td>26780</td>\n",
       "      <td>Subscriber</td>\n",
       "      <td>1987.0</td>\n",
       "      <td>1</td>\n",
       "      <td>1</td>\n",
       "      <td>34.0</td>\n",
       "    </tr>\n",
       "    <tr>\n",
       "      <th>1062390</th>\n",
       "      <td>612</td>\n",
       "      <td>2017-09-18 16:23:56</td>\n",
       "      <td>2017-09-18 16:34:08</td>\n",
       "      <td>3374</td>\n",
       "      <td>Central Park North &amp; Adam Clayton Powell Blvd</td>\n",
       "      <td>40.799484</td>\n",
       "      <td>-73.955613</td>\n",
       "      <td>3497</td>\n",
       "      <td>Pleasant Ave &amp; E 116 St</td>\n",
       "      <td>40.794988</td>\n",
       "      <td>-73.933335</td>\n",
       "      <td>27368</td>\n",
       "      <td>Subscriber</td>\n",
       "      <td>1989.0</td>\n",
       "      <td>1</td>\n",
       "      <td>1</td>\n",
       "      <td>32.0</td>\n",
       "    </tr>\n",
       "    <tr>\n",
       "      <th>462232</th>\n",
       "      <td>1981</td>\n",
       "      <td>2017-09-09 15:57:41</td>\n",
       "      <td>2017-09-09 16:30:42</td>\n",
       "      <td>228</td>\n",
       "      <td>E 48 St &amp; 3 Ave</td>\n",
       "      <td>40.754601</td>\n",
       "      <td>-73.971879</td>\n",
       "      <td>327</td>\n",
       "      <td>Vesey Pl &amp; River Terrace</td>\n",
       "      <td>40.715338</td>\n",
       "      <td>-74.016584</td>\n",
       "      <td>28136</td>\n",
       "      <td>Subscriber</td>\n",
       "      <td>1962.0</td>\n",
       "      <td>1</td>\n",
       "      <td>1</td>\n",
       "      <td>59.0</td>\n",
       "    </tr>\n",
       "  </tbody>\n",
       "</table>\n",
       "</div>"
      ],
      "text/plain": [
       "         tripduration           starttime            stoptime  \\\n",
       "172216            905 2017-09-04 19:42:34 2017-09-04 19:57:39   \n",
       "1730949          1390 2017-09-28 16:36:19 2017-09-28 16:59:30   \n",
       "1192461          1952 2017-09-20 16:53:30 2017-09-20 17:26:03   \n",
       "81086             714 2017-09-02 15:53:27 2017-09-02 16:05:21   \n",
       "103507            499 2017-09-03 15:18:40 2017-09-03 15:27:00   \n",
       "1253445           774 2017-09-21 14:46:45 2017-09-21 14:59:40   \n",
       "1692667           329 2017-09-28 06:47:49 2017-09-28 06:53:18   \n",
       "1543994          1894 2017-09-25 20:58:51 2017-09-25 21:30:25   \n",
       "1062390           612 2017-09-18 16:23:56 2017-09-18 16:34:08   \n",
       "462232           1981 2017-09-09 15:57:41 2017-09-09 16:30:42   \n",
       "\n",
       "         start station id                             start station name  \\\n",
       "172216               3263                         Cooper Square & E 7 St   \n",
       "1730949              3355                          E 66 St & Madison Ave   \n",
       "1192461              2008                          Little West St & 1 Pl   \n",
       "81086                3282                                5 Ave & E 88 St   \n",
       "103507                388                               W 26 St & 10 Ave   \n",
       "1253445               490                                8 Ave & W 33 St   \n",
       "1692667               410                        Suffolk St & Stanton St   \n",
       "1543994               168                                W 18 St & 6 Ave   \n",
       "1062390              3374  Central Park North & Adam Clayton Powell Blvd   \n",
       "462232                228                                E 48 St & 3 Ave   \n",
       "\n",
       "         start station latitude  start station longitude  end station id  \\\n",
       "172216                40.729236               -73.990868             528   \n",
       "1730949               40.768009               -73.968453             212   \n",
       "1192461               40.705693               -74.016777             458   \n",
       "81086                 40.783070               -73.959390             457   \n",
       "103507                40.749718               -74.002950             345   \n",
       "1253445               40.751551               -73.993934             383   \n",
       "1692667               40.720664               -73.985180             265   \n",
       "1543994               40.739713               -73.994564             297   \n",
       "1062390               40.799484               -73.955613            3497   \n",
       "462232                40.754601               -73.971879             327   \n",
       "\n",
       "                   end station name  end station latitude  \\\n",
       "172216              2 Ave & E 31 St             40.742909   \n",
       "1730949     W 16 St & The High Line             40.743349   \n",
       "1192461            11 Ave & W 27 St             40.751396   \n",
       "81086            Broadway & W 58 St             40.766953   \n",
       "103507              W 13 St & 6 Ave             40.736494   \n",
       "1253445  Greenwich Ave & Charles St             40.735238   \n",
       "1692667    Stanton St & Chrystie St             40.722293   \n",
       "1543994             E 15 St & 3 Ave             40.734232   \n",
       "1062390     Pleasant Ave & E 116 St             40.794988   \n",
       "462232     Vesey Pl & River Terrace             40.715338   \n",
       "\n",
       "         end station longitude  bikeid    usertype  birth year  gender  count  \\\n",
       "172216              -73.977061   30910  Subscriber      1949.0       1      1   \n",
       "1730949             -74.006818   21108  Subscriber      1952.0       1      1   \n",
       "1192461             -74.005226   26874    Customer      1973.0       1      1   \n",
       "81086               -73.981693   21264  Subscriber      1991.0       2      1   \n",
       "103507              -73.997044   28361  Subscriber      1986.0       2      1   \n",
       "1253445             -74.000271   30789  Subscriber      1978.0       1      1   \n",
       "1692667             -73.991475   18264  Subscriber      1985.0       1      1   \n",
       "1543994             -73.986923   26780  Subscriber      1987.0       1      1   \n",
       "1062390             -73.933335   27368  Subscriber      1989.0       1      1   \n",
       "462232              -74.016584   28136  Subscriber      1962.0       1      1   \n",
       "\n",
       "          Age  \n",
       "172216   72.0  \n",
       "1730949  69.0  \n",
       "1192461  48.0  \n",
       "81086    30.0  \n",
       "103507   35.0  \n",
       "1253445  43.0  \n",
       "1692667  36.0  \n",
       "1543994  34.0  \n",
       "1062390  32.0  \n",
       "462232   59.0  "
      ]
     },
     "execution_count": 39,
     "metadata": {},
     "output_type": "execute_result"
    }
   ],
   "source": [
    "df.sample(10)"
   ]
  },
  {
   "cell_type": "code",
   "execution_count": 40,
   "metadata": {},
   "outputs": [],
   "source": [
    "df['Kelompok Usia'] = df['Age'].apply(lambda x:'Tua' if x>40 else 'Muda')"
   ]
  },
  {
   "cell_type": "code",
   "execution_count": 41,
   "metadata": {},
   "outputs": [
    {
     "data": {
      "text/plain": [
       "1    1218524\n",
       "2     444132\n",
       "Name: gender, dtype: int64"
      ]
     },
     "execution_count": 41,
     "metadata": {},
     "output_type": "execute_result"
    }
   ],
   "source": [
    "df[df['gender']>0]['gender'].value_counts()"
   ]
  },
  {
   "cell_type": "code",
   "execution_count": 42,
   "metadata": {},
   "outputs": [
    {
     "data": {
      "image/png": "[encoded data removed]",
      "text/plain": [
       "<Figure size 842.4x595.44 with 1 Axes>"
      ]
     },
     "metadata": {},
     "output_type": "display_data"
    }
   ],
   "source": [
    "#define data\n",
    "kelas_usia = [len(df[(df['gender']==1) & (df['Kelompok Usia']=='Muda')]), len(df[(df['gender']==1) &\\\n",
    "            (df['Kelompok Usia']=='Tua')]), len(df[(df['gender']==2) & (df['Kelompok Usia']=='Muda')]),\\\n",
    "              len(df[(df['gender']==2) & (df['Kelompok Usia']=='Tua')])]\n",
    "labels = ['Pria Muda', 'Pria Tua', 'Wanita Muda', 'Wanita Tua']\n",
    "\n",
    "#define Seaborn color palette to use\n",
    "colors = sns.color_palette('pastel')[0:4]\n",
    "\n",
    "#create pie chart\n",
    "plt.pie(kelas_usia, labels = labels, colors = colors, autopct='%.0f%%')\n",
    "plt.show()"
   ]
  },
  {
   "cell_type": "markdown",
   "metadata": {},
   "source": [
    "> Dapat disimpulkan bahwa dalam program city bike ini kebanyakan orang yang mengikutinya bergender Pria. Pria yang mengikuti program ini berjumlah 1.218.524, dimana secara persentase jumlah pria 73,28% dari total keseluruhan peserta yang diketahui gendernya.\n",
    "\n",
    "> Selain itu jumlah orang yang tua banyak didominasi dari gender pria dibanding dengan wanita. Dengan persentase pria tua adalah 34% dari total peserta, dibanding wanita tua hanya 11% dari total."
   ]
  },
  {
   "cell_type": "code",
   "execution_count": 43,
   "metadata": {},
   "outputs": [
    {
     "data": {
      "text/html": [
       "<div>\n",
       "<style scoped>\n",
       "    .dataframe tbody tr th:only-of-type {\n",
       "        vertical-align: middle;\n",
       "    }\n",
       "\n",
       "    .dataframe tbody tr th {\n",
       "        vertical-align: top;\n",
       "    }\n",
       "\n",
       "    .dataframe thead th {\n",
       "        text-align: right;\n",
       "    }\n",
       "</style>\n",
       "<table border=\"1\" class=\"dataframe\">\n",
       "  <thead>\n",
       "    <tr style=\"text-align: right;\">\n",
       "      <th></th>\n",
       "      <th>gender</th>\n",
       "      <th>tripduration</th>\n",
       "    </tr>\n",
       "  </thead>\n",
       "  <tbody>\n",
       "    <tr>\n",
       "      <th>gender</th>\n",
       "      <td>1.000000</td>\n",
       "      <td>0.007332</td>\n",
       "    </tr>\n",
       "    <tr>\n",
       "      <th>tripduration</th>\n",
       "      <td>0.007332</td>\n",
       "      <td>1.000000</td>\n",
       "    </tr>\n",
       "  </tbody>\n",
       "</table>\n",
       "</div>"
      ],
      "text/plain": [
       "                gender  tripduration\n",
       "gender        1.000000      0.007332\n",
       "tripduration  0.007332      1.000000"
      ]
     },
     "execution_count": 43,
     "metadata": {},
     "output_type": "execute_result"
    }
   ],
   "source": [
    "CGT = df[df['gender']>0][['gender','tripduration']]\n",
    "CGT.corr()"
   ]
  },
  {
   "cell_type": "code",
   "execution_count": 45,
   "metadata": {},
   "outputs": [
    {
     "data": {
      "text/plain": [
       "<AxesSubplot:xlabel='gender', ylabel='tripduration'>"
      ]
     },
     "execution_count": 45,
     "metadata": {},
     "output_type": "execute_result"
    },
    {
     "data": {
      "image/png": "[encoded data removed]",
      "text/plain": [
       "<Figure size 842.4x595.44 with 1 Axes>"
      ]
     },
     "metadata": {},
     "output_type": "display_data"
    }
   ],
   "source": [
    "sns.regplot(data=CGT.sample(500, random_state=1), \n",
    "            x=\"gender\", y=\"tripduration\",\n",
    "            line_kws={\"color\": \"red\"})"
   ]
  },
  {
   "cell_type": "code",
   "execution_count": 46,
   "metadata": {},
   "outputs": [
    {
     "data": {
      "text/plain": [
       "gender\n",
       "1    2215580\n",
       "2    1661306\n",
       "Name: tripduration, dtype: int64"
      ]
     },
     "execution_count": 46,
     "metadata": {},
     "output_type": "execute_result"
    }
   ],
   "source": [
    "CGT.groupby('gender')['tripduration'].max()"
   ]
  },
  {
   "cell_type": "markdown",
   "metadata": {},
   "source": [
    "> Dapat dilihat dari diagram garis diatas menunjukkan bahwa korelasi antara gender dengan durasi bersepeda sangat kecil. Sehingga dapat disimpulkan hubungan antara kedua variable tersebut hampir tidak ada dan tidak saling mempengaruhi. \n",
    "\n",
    "> Untuk nilai korelasi menunjukkan nilai positif sehingga ada kemungkinan kecil bahwa seorang wanita akan memiliki durasi yang lebih banyak dibanding dengan pria. Hal tersebut mungkin dikarenakan jumlah pria yang tua lebih banyak dibanding dengan wanita. Namun untuk durasi maksimal bersepeda dilakukan oleh pria selama 36,9 menit, sedangkan pada wanita maksimalnya hanya 27,69 menit. Sehingga korelasi antara gender dan lama durasi bersepeda tidak dapat disimpulkan dikarenakan jumlah data antara pria dan wanita cukup timpang."
   ]
  },
  {
   "cell_type": "code",
   "execution_count": 48,
   "metadata": {},
   "outputs": [
    {
     "data": {
      "text/html": [
       "<div>\n",
       "<style scoped>\n",
       "    .dataframe tbody tr th:only-of-type {\n",
       "        vertical-align: middle;\n",
       "    }\n",
       "\n",
       "    .dataframe tbody tr th {\n",
       "        vertical-align: top;\n",
       "    }\n",
       "\n",
       "    .dataframe thead th {\n",
       "        text-align: right;\n",
       "    }\n",
       "</style>\n",
       "<table border=\"1\" class=\"dataframe\">\n",
       "  <thead>\n",
       "    <tr style=\"text-align: right;\">\n",
       "      <th></th>\n",
       "      <th>gender</th>\n",
       "      <th>Age</th>\n",
       "    </tr>\n",
       "  </thead>\n",
       "  <tbody>\n",
       "    <tr>\n",
       "      <th>0</th>\n",
       "      <td>1</td>\n",
       "      <td>28.0</td>\n",
       "    </tr>\n",
       "    <tr>\n",
       "      <th>1</th>\n",
       "      <td>1</td>\n",
       "      <td>33.0</td>\n",
       "    </tr>\n",
       "    <tr>\n",
       "      <th>2</th>\n",
       "      <td>1</td>\n",
       "      <td>52.0</td>\n",
       "    </tr>\n",
       "    <tr>\n",
       "      <th>3</th>\n",
       "      <td>1</td>\n",
       "      <td>28.0</td>\n",
       "    </tr>\n",
       "    <tr>\n",
       "      <th>4</th>\n",
       "      <td>1</td>\n",
       "      <td>34.0</td>\n",
       "    </tr>\n",
       "    <tr>\n",
       "      <th>...</th>\n",
       "      <td>...</td>\n",
       "      <td>...</td>\n",
       "    </tr>\n",
       "    <tr>\n",
       "      <th>1878092</th>\n",
       "      <td>2</td>\n",
       "      <td>41.0</td>\n",
       "    </tr>\n",
       "    <tr>\n",
       "      <th>1878093</th>\n",
       "      <td>2</td>\n",
       "      <td>35.0</td>\n",
       "    </tr>\n",
       "    <tr>\n",
       "      <th>1878094</th>\n",
       "      <td>1</td>\n",
       "      <td>35.0</td>\n",
       "    </tr>\n",
       "    <tr>\n",
       "      <th>1878096</th>\n",
       "      <td>1</td>\n",
       "      <td>31.0</td>\n",
       "    </tr>\n",
       "    <tr>\n",
       "      <th>1878097</th>\n",
       "      <td>2</td>\n",
       "      <td>25.0</td>\n",
       "    </tr>\n",
       "  </tbody>\n",
       "</table>\n",
       "<p>1662656 rows × 2 columns</p>\n",
       "</div>"
      ],
      "text/plain": [
       "         gender   Age\n",
       "0             1  28.0\n",
       "1             1  33.0\n",
       "2             1  52.0\n",
       "3             1  28.0\n",
       "4             1  34.0\n",
       "...         ...   ...\n",
       "1878092       2  41.0\n",
       "1878093       2  35.0\n",
       "1878094       1  35.0\n",
       "1878096       1  31.0\n",
       "1878097       2  25.0\n",
       "\n",
       "[1662656 rows x 2 columns]"
      ]
     },
     "execution_count": 48,
     "metadata": {},
     "output_type": "execute_result"
    }
   ],
   "source": [
    "GA = df[df['gender']>0][['gender','Age']]\n",
    "GA"
   ]
  },
  {
   "cell_type": "code",
   "execution_count": 49,
   "metadata": {},
   "outputs": [
    {
     "data": {
      "text/plain": [
       "gender\n",
       "1    41.834340\n",
       "2    40.458015\n",
       "Name: Age, dtype: float64"
      ]
     },
     "execution_count": 49,
     "metadata": {},
     "output_type": "execute_result"
    }
   ],
   "source": [
    "GA.groupby('gender')['Age'].mean()"
   ]
  },
  {
   "cell_type": "code",
   "execution_count": 50,
   "metadata": {},
   "outputs": [
    {
     "data": {
      "text/plain": [
       "gender\n",
       "1    20.0\n",
       "2    20.0\n",
       "Name: Age, dtype: float64"
      ]
     },
     "execution_count": 50,
     "metadata": {},
     "output_type": "execute_result"
    }
   ],
   "source": [
    "GA.groupby('gender')['Age'].min()"
   ]
  },
  {
   "cell_type": "code",
   "execution_count": 51,
   "metadata": {},
   "outputs": [
    {
     "data": {
      "text/plain": [
       "gender\n",
       "1    136.0\n",
       "2    135.0\n",
       "Name: Age, dtype: float64"
      ]
     },
     "execution_count": 51,
     "metadata": {},
     "output_type": "execute_result"
    }
   ],
   "source": [
    "GA.groupby('gender')['Age'].max()"
   ]
  },
  {
   "cell_type": "markdown",
   "metadata": {},
   "source": [
    "> Dari data diatas menunjukkan bahwa rata-rata usia pada pria dan wanita hampir mendekati usia 40an. Usia pria pada program tersebut rata-rata adalah 42an, sedangkan usia wanita sekitar 40. Untuk usia minimal antara pria dan wanita adalah sama yaitu 20. Sedangkan untuk usia maksimal pria lebih tinggi dibanding wanita yaitu 136 dan 135."
   ]
  }
 ],
 "metadata": {
  "kernelspec": {
   "display_name": "Python 3",
   "language": "python",
   "name": "python3"
  },
  "language_info": {
   "codemirror_mode": {
    "name": "ipython",
    "version": 3
   },
   "file_extension": ".py",
   "mimetype": "text/x-python",
   "name": "python",
   "nbconvert_exporter": "python",
   "pygments_lexer": "ipython3",
   "version": "3.9.1"
  }
 },
 "nbformat": 4,
 "nbformat_minor": 2
}
